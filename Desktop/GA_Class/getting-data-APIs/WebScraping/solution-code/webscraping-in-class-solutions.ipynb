{
 "cells": [
  {
   "cell_type": "markdown",
   "metadata": {
    "collapsed": true
   },
   "source": [
    "<img src=\"http://imgur.com/1ZcRyrc.png\" style=\"float: left; margin: 20px; height: 55px\">\n",
    "\n",
    "# Web Scraping: Solutions\n",
    "\n",
    "_Author: Dave Yerrington (SF)_\n",
    "\n",
    "---"
   ]
  },
  {
   "cell_type": "markdown",
   "metadata": {},
   "source": [
    "## Before Class\n",
    "\n",
    "#### Install Selenium\n",
    "\n",
    "Selenium is a headless browser. It allows us to render JavaScript just as a human-navigated browser would.\n",
    "\n",
    "To install Selenium, use one of the following:\n",
    "- **Anaconda:** `conda install -c conda-forge selenium`\n",
    "- **pip:** `pip install selenium`\n",
    "\n",
    "\n",
    "#### Install GeckoDriver\n",
    "\n",
    "You will also need GeckoDriver (this assumes you are using Homebrew for Mac): \n",
    "\n",
    "- ```brew install geckodriver```\n",
    "\n",
    "#### Install Firefox\n",
    "\n",
    "Additionally, you will need to have downloaded the [Firefox browser](https://www.mozilla.org/en-US/firefox/new/?utm_source=google&utm_medium=cpc&utm_campaign=Firefox-Brand-US-GGL-Exact&utm_term=firefox&utm_content=A144_A203_A006336&gclid=Cj0KEQjwnPLKBRC-j7nt1b7OlZwBEiQAv8lMLJUyReT6cPzSYdmEA6uD3YDoieuuuusddgAU7XH6smEaAoje8P8HAQ&gclsrc=aw.ds) for the application in this lesson."
   ]
  },
  {
   "cell_type": "markdown",
   "metadata": {},
   "source": [
    "## Learning Objectives\n",
    "- Revisit how to locate elements on a webpage\n",
    "- Aquire unstructure data from the internet using Beautiful soup.\n",
    "- Discuss limitations associated with simple requests and urllib libraries\n",
    "- Introduce Selenium as a solution, and implement a scraper using selenium"
   ]
  },
  {
   "cell_type": "markdown",
   "metadata": {},
   "source": [
    "## Lesson Guide\n",
    "\n",
    "- [Introduction](#intro)\n",
    "- [Building a web scraper](#building-scraper)\n",
    "- [Retrieving data from the HTML page](#retrieving-data)\n",
    "    - [Retrieving the restaurant names](#retrieving-names)\n",
    "    - [Challenge: Retrieving the restaurant locations](#retrieving-locations)\n",
    "    - [Retrieving the restaurant prices](#retrieving-prices)\n",
    "    - [Retrieving the restaurant number of bookings](#retrieving-bookings)\n",
    "\n",
    "\n",
    "- [Introducting Selenium](#selenium)\n",
    "    - [Running JavaScript before scraping](#selenium-js)\n",
    "    - [Using regex to only get digits](#selenium-regex)\n",
    "    - [Challenge: Use Pandas to create a DataFrame of bookings](#challenge-pandas)\n",
    "    - [Auto-typing using Selenium](#selenium-typing)\n",
    "\n",
    "\n",
    "- [Summary](#summary)"
   ]
  },
  {
   "cell_type": "markdown",
   "metadata": {},
   "source": [
    "<a id=\"intro\"></a>\n",
    "## Introduction\n",
    "\n",
    "In this codealong lesson, we'll build a web scraper using urllib and BeautifulSoup. We will also explore how to use a headless browser called Selenium.\n",
    "\n",
    "We'll begin by scraping OpenTable's DC listings. We're interested in knowing the restaurant's **name, location, price, and how many people booked it today.**\n",
    "\n",
    "OpenTable provides all of this information on this given page: http://www.opentable.com/washington-dc-restaurant-listings\n",
    "\n",
    "Let's inspect the elements of this page to assure we can find each of the bits of information in which we're interested.\n",
    "\n",
    "---"
   ]
  },
  {
   "cell_type": "markdown",
   "metadata": {},
   "source": [
    "<a id=\"building-scraper\"></a>\n",
    "## Building a web scraper\n",
    "\n",
    "Now, let's build a web scraper for OpenTable using urllib and Beautiful Soup:"
   ]
  },
  {
   "cell_type": "code",
   "execution_count": 1,
   "metadata": {
    "collapsed": true,
    "scrolled": false
   },
   "outputs": [],
   "source": [
    "# import our necessary first packages\n",
    "from bs4 import BeautifulSoup\n",
    "import urllib"
   ]
  },
  {
   "cell_type": "code",
   "execution_count": 2,
   "metadata": {
    "collapsed": true
   },
   "outputs": [],
   "source": [
    "# set the url we want to visit\n",
    "url = \"http://www.opentable.com/washington-dc-restaurant-listings\"\n",
    "\n",
    "# visit that url, and grab the html of said page\n",
    "html = urllib.urlopen(url).read()"
   ]
  },
  {
   "cell_type": "markdown",
   "metadata": {},
   "source": [
    "At this point, what is in html?"
   ]
  },
  {
   "cell_type": "code",
   "execution_count": 3,
   "metadata": {},
   "outputs": [
    {
     "data": {
      "text/plain": [
       "'          <!DOCTYPE html><html lang=\"en\"><head><meta charset=\"utf-8\"/><meta http-equiv=\"X-UA-Compatible\" content=\"IE=9; IE=8; IE=7; IE=EDGE\"/> <title>Washington, D.C. Area Restaurants List | OpenTable</title>  <meta  name=\"description\" content=\"Find Washington, D.C. Area restaurants. Search by location, cuisine, or price to refine restaurant results in the Washington, D.C. Area area.\" > </meta>  <meta  name=\"robots\" content=\"noindex\" > </meta>    <link rel=\"shortcut icon\" href=\"//components.otst'"
      ]
     },
     "execution_count": 3,
     "metadata": {},
     "output_type": "execute_result"
    }
   ],
   "source": [
    "html[:500]"
   ]
  },
  {
   "cell_type": "markdown",
   "metadata": {},
   "source": [
    "We will need to convert this html objct into a soup object so we can parse it using python and BS4"
   ]
  },
  {
   "cell_type": "code",
   "execution_count": 4,
   "metadata": {
    "collapsed": true
   },
   "outputs": [],
   "source": [
    "# convert this into a soup object\n",
    "soup = BeautifulSoup(html, 'html.parser', from_encoding=\"utf-8\")"
   ]
  },
  {
   "cell_type": "markdown",
   "metadata": {},
   "source": [
    "<a id=\"retrieving-data\"></a>\n",
    "### Retrieving data from the HTML page"
   ]
  },
  {
   "cell_type": "markdown",
   "metadata": {},
   "source": [
    "Let's first find each restaurant name listed on the page we've loaded. How do we find the page location of the restaurant? (Hint: We need to know where in the **HTML** the restaurant element is housed.) In order to find the HTML that renders the restaurant location, we can use Google Chrome's Inspect tool:\n",
    "\n",
    "> http://www.opentable.com/washington-dc-restaurant-listings\n",
    "\n",
    "> 1. Visit the URL above. \n",
    "\n",
    "> 2. Right-click on an element you are interested in, then choose Inspect (in Chrome). \n",
    "\n",
    "> 3. This will open the Developer Tools and show the HTML used to render the selected page element. \n",
    "\n",
    "> Throughout this lesson, we will use this method to find tags associated with elements of the page we want to scrape.\n",
    "\n",
    "See if you can find the restaurant name on the page. Keep in mind there are many restaurants loaded on the page."
   ]
  },
  {
   "cell_type": "code",
   "execution_count": 5,
   "metadata": {
    "scrolled": true
   },
   "outputs": [
    {
     "data": {
      "text/plain": [
       "[<span class=\"rest-row-name-text\">Ruffino's - Arlington</span>,\n",
       " <span class=\"rest-row-name-text\">Joe's Place Pizza and Pasta</span>,\n",
       " <span class=\"rest-row-name-text\">Chez Billy Sud</span>,\n",
       " <span class=\"rest-row-name-text\">Blue Duck Tavern</span>,\n",
       " <span class=\"rest-row-name-text\">Rasika West End</span>,\n",
       " <span class=\"rest-row-name-text\">Farmers Fishers Bakers</span>,\n",
       " <span class=\"rest-row-name-text\">Ambar - Arlington</span>,\n",
       " <span class=\"rest-row-name-text\">CIRCA at Foggy Bottom</span>,\n",
       " <span class=\"rest-row-name-text\">Founding Farmers - DC</span>,\n",
       " <span class=\"rest-row-name-text\">Medium Rare - Cleveland Park</span>,\n",
       " <span class=\"rest-row-name-text\">Clyde's of Georgetown</span>,\n",
       " <span class=\"rest-row-name-text\">Peacock Caf\\xe9</span>,\n",
       " <span class=\"rest-row-name-text\">CIRCA at Clarendon</span>,\n",
       " <span class=\"rest-row-name-text\">Filomena Ristorante</span>,\n",
       " <span class=\"rest-row-name-text\">Mission</span>,\n",
       " <span class=\"rest-row-name-text\">The Liberty Tavern</span>,\n",
       " <span class=\"rest-row-name-text\">Founding Farmers - Tysons</span>,\n",
       " <span class=\"rest-row-name-text\">District Commons</span>,\n",
       " <span class=\"rest-row-name-text\">Kingbird at The Watergate Hotel</span>,\n",
       " <span class=\"rest-row-name-text\">Nostos Restaurant</span>,\n",
       " <span class=\"rest-row-name-text\">La Chaumiere</span>,\n",
       " <span class=\"rest-row-name-text\">Bistrot Lepic &amp; Wine Bar</span>,\n",
       " <span class=\"rest-row-name-text\">Lyon Hall</span>,\n",
       " <span class=\"rest-row-name-text\">2941 Restaurant</span>,\n",
       " <span class=\"rest-row-name-text\">Kona Grill - Arlington</span>,\n",
       " <span class=\"rest-row-name-text\">Baba</span>,\n",
       " <span class=\"rest-row-name-text\">La Piquette</span>,\n",
       " <span class=\"rest-row-name-text\">Firefly - DC</span>,\n",
       " <span class=\"rest-row-name-text\">Grillfish DC</span>,\n",
       " <span class=\"rest-row-name-text\">Barrel &amp; Bushel</span>,\n",
       " <span class=\"rest-row-name-text\">SER</span>,\n",
       " <span class=\"rest-row-name-text\">BlackSalt</span>,\n",
       " <span class=\"rest-row-name-text\">Et Voila</span>,\n",
       " <span class=\"rest-row-name-text\">Soi 38</span>,\n",
       " <span class=\"rest-row-name-text\">Sushi Rock</span>,\n",
       " <span class=\"rest-row-name-text\">Eddie V's - Tysons Corner</span>,\n",
       " <span class=\"rest-row-name-text\">Darlington House</span>,\n",
       " <span class=\"rest-row-name-text\">Earls Kitchen + Bar - Tysons Corner</span>,\n",
       " <span class=\"rest-row-name-text\">Ray's The Steaks</span>,\n",
       " <span class=\"rest-row-name-text\">Caf\\xe9 Milano</span>,\n",
       " <span class=\"rest-row-name-text\">Das Ethiopian - Georgetown</span>,\n",
       " <span class=\"rest-row-name-text\">Fire Works - Arlington</span>,\n",
       " <span class=\"rest-row-name-text\">Sette Osteria</span>,\n",
       " <span class=\"rest-row-name-text\">Honeysuckle</span>,\n",
       " <span class=\"rest-row-name-text\">Rustico - Ballston</span>,\n",
       " <span class=\"rest-row-name-text\">Barley Mac</span>,\n",
       " <span class=\"rest-row-name-text\">Clyde's at Mark Center</span>,\n",
       " <span class=\"rest-row-name-text\">Texas Jacks Barbecue</span>,\n",
       " <span class=\"rest-row-name-text\">The Sovereign</span>,\n",
       " <span class=\"rest-row-name-text\">Le Chat Noir</span>,\n",
       " <span class=\"rest-row-name-text\">El Centro D.F. - Georgetown</span>,\n",
       " <span class=\"rest-row-name-text\">Tony &amp; Joe's Seafood Place</span>,\n",
       " <span class=\"rest-row-name-text\">The Alex Craft Cocktail Cellar &amp; Speakeasy</span>,\n",
       " <span class=\"rest-row-name-text\">Matchbox - Pentagon City</span>,\n",
       " <span class=\"rest-row-name-text\">Wildfire - Tysons Galleria</span>,\n",
       " <span class=\"rest-row-name-text\">Tupelo Honey - Arlington</span>,\n",
       " <span class=\"rest-row-name-text\">District Kitchen</span>,\n",
       " <span class=\"rest-row-name-text\">Ristorante Piccolo</span>,\n",
       " <span class=\"rest-row-name-text\">Tonic Restaurant @ Quigley's Pharmacy</span>,\n",
       " <span class=\"rest-row-name-text\">Marcel's by Robert Wiedmaier</span>,\n",
       " <span class=\"rest-row-name-text\">Il Canale</span>,\n",
       " <span class=\"rest-row-name-text\">Cafe Deluxe - Tysons Corner</span>,\n",
       " <span class=\"rest-row-name-text\">Al Tiramisu</span>,\n",
       " <span class=\"rest-row-name-text\">Chef Geoff's (New Mexico Ave.)</span>,\n",
       " <span class=\"rest-row-name-text\">Bodega Spanish Tapas &amp; Lounge</span>,\n",
       " <span class=\"rest-row-name-text\">Seasons 52 - Tysons Corner</span>,\n",
       " <span class=\"rest-row-name-text\">Chef Geoff's Tysons</span>,\n",
       " <span class=\"rest-row-name-text\">Yayla Bistro</span>,\n",
       " <span class=\"rest-row-name-text\">Grand Cru Wine Bar &amp; Bistro</span>,\n",
       " <span class=\"rest-row-name-text\">LIA'S</span>,\n",
       " <span class=\"rest-row-name-text\">Lebanese Taverna - Washington DC</span>,\n",
       " <span class=\"rest-row-name-text\">Clyde's of Chevy Chase</span>,\n",
       " <span class=\"rest-row-name-text\">Cafe Deluxe - West End</span>,\n",
       " <span class=\"rest-row-name-text\">Pinstripes - Georgetown</span>,\n",
       " <span class=\"rest-row-name-text\">Thunder Burger &amp; Bar</span>,\n",
       " <span class=\"rest-row-name-text\">RIS</span>,\n",
       " <span class=\"rest-row-name-text\">Fleming's Steakhouse - Tyson's Corner</span>,\n",
       " <span class=\"rest-row-name-text\">Ristorante La Perla of Washington</span>,\n",
       " <span class=\"rest-row-name-text\">Kapnos Taverna Arlington</span>,\n",
       " <span class=\"rest-row-name-text\">Mussel Bar &amp; Grille - Arlington</span>,\n",
       " <span class=\"rest-row-name-text\">Bourbon Steak - Four Seasons Washington DC</span>,\n",
       " <span class=\"rest-row-name-text\">Paladar Latin Kitchen &amp; Rum Bar</span>,\n",
       " <span class=\"rest-row-name-text\">Unum Restaurant</span>,\n",
       " <span class=\"rest-row-name-text\">Aperto</span>,\n",
       " <span class=\"rest-row-name-text\">Idylwood Grill</span>,\n",
       " <span class=\"rest-row-name-text\">J. Gilbert\\u2019s \\u2013 Wood Fired Steaks &amp; Seafood - McLean</span>,\n",
       " <span class=\"rest-row-name-text\">Cheesetique - Ballston</span>,\n",
       " <span class=\"rest-row-name-text\">The Melting Pot - Arlington VA</span>,\n",
       " <span class=\"rest-row-name-text\">Yona</span>,\n",
       " <span class=\"rest-row-name-text\">H\\xe4rth</span>,\n",
       " <span class=\"rest-row-name-text\">Uncle Julio's - Arlington/ Ballston</span>,\n",
       " <span class=\"rest-row-name-text\">TenPenh - Tysons</span>,\n",
       " <span class=\"rest-row-name-text\">Flavio</span>,\n",
       " <span class=\"rest-row-name-text\">The Grill Room</span>,\n",
       " <span class=\"rest-row-name-text\">The Irish Inn at Glen Echo</span>,\n",
       " <span class=\"rest-row-name-text\">J. Paul's - Georgetown</span>,\n",
       " <span class=\"rest-row-name-text\">Lebanese Taverna - Pentagon Row</span>,\n",
       " <span class=\"rest-row-name-text\">Scion Restaurant</span>,\n",
       " <span class=\"rest-row-name-text\">Ezme</span>,\n",
       " <span class=\"rest-row-name-text\">Jardenea</span>]"
      ]
     },
     "execution_count": 5,
     "metadata": {},
     "output_type": "execute_result"
    }
   ],
   "source": [
    "# print the restaurant names\n",
    "soup.find_all(name='span', attrs={'class':'rest-row-name-text'})"
   ]
  },
  {
   "cell_type": "markdown",
   "metadata": {},
   "source": [
    "It is important to always keep in mind the data types that were returned. Note this is a `list`, and we know that immediately by observing the outer square brackets and commas separating each tag.\n",
    "\n",
    "Next, note the elements of the list are `Tag` objects, not strings. (If they were strings, they would be surrounded by quotes.) The Beautiful Soup authors chose to display a `Tag` object visually as a text representation of the tag and its contents. However, being an object, it has many methods that we can call on it. For example, next we will use the `encode_contents()` method to return the tag's contents encoded as a Python string.\n",
    "\n",
    "<a id=\"retrieving-names\"></a>\n",
    "#### Retrieving the restaurant names\n",
    "\n",
    "Now that we found a list of tags containing the restaurant names, let's think how we can loop through them all one-by-one. In the following cell, we'll print out the name (and **only** the clean name, not the rest of the html) of each restaurant."
   ]
  },
  {
   "cell_type": "code",
   "execution_count": 15,
   "metadata": {},
   "outputs": [
    {
     "name": "stdout",
     "output_type": "stream",
     "text": [
      "Ruffino's - Arlington\n",
      "Joe's Place Pizza and Pasta\n",
      "Chez Billy Sud\n",
      "Blue Duck Tavern\n",
      "Rasika West End\n",
      "Farmers Fishers Bakers\n",
      "Ambar - Arlington\n",
      "CIRCA at Foggy Bottom\n",
      "Founding Farmers - DC\n",
      "Medium Rare - Cleveland Park\n",
      "Clyde's of Georgetown\n",
      "Peacock Café\n",
      "CIRCA at Clarendon\n",
      "Filomena Ristorante\n",
      "Mission\n",
      "The Liberty Tavern\n",
      "Founding Farmers - Tysons\n",
      "District Commons\n",
      "Kingbird at The Watergate Hotel\n",
      "Nostos Restaurant\n",
      "La Chaumiere\n",
      "Bistrot Lepic &amp; Wine Bar\n",
      "Lyon Hall\n",
      "2941 Restaurant\n",
      "Kona Grill - Arlington\n",
      "Baba\n",
      "La Piquette\n",
      "Firefly - DC\n",
      "Grillfish DC\n",
      "Barrel &amp; Bushel\n",
      "SER\n",
      "BlackSalt\n",
      "Et Voila\n",
      "Soi 38\n",
      "Sushi Rock\n",
      "Eddie V's - Tysons Corner\n",
      "Darlington House\n",
      "Earls Kitchen + Bar - Tysons Corner\n",
      "Ray's The Steaks\n",
      "Café Milano\n",
      "Das Ethiopian - Georgetown\n",
      "Fire Works - Arlington\n",
      "Sette Osteria\n",
      "Honeysuckle\n",
      "Rustico - Ballston\n",
      "Barley Mac\n",
      "Clyde's at Mark Center\n",
      "Texas Jacks Barbecue\n",
      "The Sovereign\n",
      "Le Chat Noir\n",
      "El Centro D.F. - Georgetown\n",
      "Tony &amp; Joe's Seafood Place\n",
      "The Alex Craft Cocktail Cellar &amp; Speakeasy\n",
      "Matchbox - Pentagon City\n",
      "Wildfire - Tysons Galleria\n",
      "Tupelo Honey - Arlington\n",
      "District Kitchen\n",
      "Ristorante Piccolo\n",
      "Tonic Restaurant @ Quigley's Pharmacy\n",
      "Marcel's by Robert Wiedmaier\n",
      "Il Canale\n",
      "Cafe Deluxe - Tysons Corner\n",
      "Al Tiramisu\n",
      "Chef Geoff's (New Mexico Ave.)\n",
      "Bodega Spanish Tapas &amp; Lounge\n",
      "Seasons 52 - Tysons Corner\n",
      "Chef Geoff's Tysons\n",
      "Yayla Bistro\n",
      "Grand Cru Wine Bar &amp; Bistro\n",
      "LIA'S\n",
      "Lebanese Taverna - Washington DC\n",
      "Clyde's of Chevy Chase\n",
      "Cafe Deluxe - West End\n",
      "Pinstripes - Georgetown\n",
      "Thunder Burger &amp; Bar\n",
      "RIS\n",
      "Fleming's Steakhouse - Tyson's Corner\n",
      "Ristorante La Perla of Washington\n",
      "Kapnos Taverna Arlington\n",
      "Mussel Bar &amp; Grille - Arlington\n",
      "Bourbon Steak - Four Seasons Washington DC\n",
      "Paladar Latin Kitchen &amp; Rum Bar\n",
      "Unum Restaurant\n",
      "Aperto\n",
      "Idylwood Grill\n",
      "J. Gilbert’s – Wood Fired Steaks &amp; Seafood - McLean\n",
      "Cheesetique - Ballston\n",
      "The Melting Pot - Arlington VA\n",
      "Yona\n",
      "Härth\n",
      "Uncle Julio's - Arlington/ Ballston\n",
      "TenPenh - Tysons\n",
      "Flavio\n",
      "The Grill Room\n",
      "The Irish Inn at Glen Echo\n",
      "J. Paul's - Georgetown\n",
      "Lebanese Taverna - Pentagon Row\n",
      "Scion Restaurant\n",
      "Ezme\n",
      "Jardenea\n"
     ]
    }
   ],
   "source": [
    "# for each element you find, print out the restaurant name\n",
    "for entry in soup.find_all(name='span', attrs={'class':'rest-row-name-text'}):\n",
    "    print entry.encode_contents()"
   ]
  },
  {
   "cell_type": "markdown",
   "metadata": {},
   "source": [
    "Great!\n",
    "\n",
    "<a id=\"retrieving-locations\"></a>\n",
    "#### Challenge: Retrieving the restaurant locations\n",
    "\n",
    "Can you repeat that process for finding the location? For example, barmini by Jose Andres is in the location listed as \"Penn Quarter\" in our search results."
   ]
  },
  {
   "cell_type": "code",
   "execution_count": 17,
   "metadata": {},
   "outputs": [
    {
     "data": {
      "text/plain": [
       "[<span class=\"rest-row-meta--location rest-row-meta-text\">Arlington</span>,\n",
       " <span class=\"rest-row-meta--location rest-row-meta-text\">Arlington</span>,\n",
       " <span class=\"rest-row-meta--location rest-row-meta-text\">Georgetown</span>,\n",
       " <span class=\"rest-row-meta--location rest-row-meta-text\">West End</span>,\n",
       " <span class=\"rest-row-meta--location rest-row-meta-text\">West End</span>,\n",
       " <span class=\"rest-row-meta--location rest-row-meta-text\">Georgetown</span>,\n",
       " <span class=\"rest-row-meta--location rest-row-meta-text\">Arlington</span>,\n",
       " <span class=\"rest-row-meta--location rest-row-meta-text\">Foggy Bottom</span>,\n",
       " <span class=\"rest-row-meta--location rest-row-meta-text\">Foggy Bottom</span>,\n",
       " <span class=\"rest-row-meta--location rest-row-meta-text\">Cleveland Park</span>,\n",
       " <span class=\"rest-row-meta--location rest-row-meta-text\">Georgetown</span>,\n",
       " <span class=\"rest-row-meta--location rest-row-meta-text\">Georgetown</span>,\n",
       " <span class=\"rest-row-meta--location rest-row-meta-text\">Arlington</span>,\n",
       " <span class=\"rest-row-meta--location rest-row-meta-text\">Georgetown</span>,\n",
       " <span class=\"rest-row-meta--location rest-row-meta-text\">Dupont Circle</span>,\n",
       " <span class=\"rest-row-meta--location rest-row-meta-text\">Arlington</span>,\n",
       " <span class=\"rest-row-meta--location rest-row-meta-text\">Tysons Corner / McLean</span>,\n",
       " <span class=\"rest-row-meta--location rest-row-meta-text\">Foggy Bottom</span>,\n",
       " <span class=\"rest-row-meta--location rest-row-meta-text\">Foggy Bottom</span>,\n",
       " <span class=\"rest-row-meta--location rest-row-meta-text\">Vienna</span>,\n",
       " <span class=\"rest-row-meta--location rest-row-meta-text\">Georgetown</span>,\n",
       " <span class=\"rest-row-meta--location rest-row-meta-text\">Georgetown</span>,\n",
       " <span class=\"rest-row-meta--location rest-row-meta-text\">Arlington</span>,\n",
       " <span class=\"rest-row-meta--location rest-row-meta-text\">Falls Church</span>,\n",
       " <span class=\"rest-row-meta--location rest-row-meta-text\">Arlington</span>,\n",
       " <span class=\"rest-row-meta--location rest-row-meta-text\">Arlington</span>,\n",
       " <span class=\"rest-row-meta--location rest-row-meta-text\">Cleveland Park</span>,\n",
       " <span class=\"rest-row-meta--location rest-row-meta-text\">Dupont Circle</span>,\n",
       " <span class=\"rest-row-meta--location rest-row-meta-text\">Dupont Circle</span>,\n",
       " <span class=\"rest-row-meta--location rest-row-meta-text\">Tysons Corner / McLean</span>,\n",
       " <span class=\"rest-row-meta--location rest-row-meta-text\">Arlington</span>,\n",
       " <span class=\"rest-row-meta--location rest-row-meta-text\">Palisades Northwest</span>,\n",
       " <span class=\"rest-row-meta--location rest-row-meta-text\">Palisades Northwest</span>,\n",
       " <span class=\"rest-row-meta--location rest-row-meta-text\">Foggy Bottom</span>,\n",
       " <span class=\"rest-row-meta--location rest-row-meta-text\">Arlington</span>,\n",
       " <span class=\"rest-row-meta--location rest-row-meta-text\">Tysons Corner / McLean</span>,\n",
       " <span class=\"rest-row-meta--location rest-row-meta-text\">Dupont Circle</span>,\n",
       " <span class=\"rest-row-meta--location rest-row-meta-text\">Tysons Corner / McLean</span>,\n",
       " <span class=\"rest-row-meta--location rest-row-meta-text\">Arlington</span>,\n",
       " <span class=\"rest-row-meta--location rest-row-meta-text\">Georgetown</span>,\n",
       " <span class=\"rest-row-meta--location rest-row-meta-text\">Georgetown</span>,\n",
       " <span class=\"rest-row-meta--location rest-row-meta-text\">Arlington</span>,\n",
       " <span class=\"rest-row-meta--location rest-row-meta-text\">Dupont Circle</span>,\n",
       " <span class=\"rest-row-meta--location rest-row-meta-text\">Downtown</span>,\n",
       " <span class=\"rest-row-meta--location rest-row-meta-text\">Arlington</span>,\n",
       " <span class=\"rest-row-meta--location rest-row-meta-text\">Arlington</span>,\n",
       " <span class=\"rest-row-meta--location rest-row-meta-text\">Alexandria</span>,\n",
       " <span class=\"rest-row-meta--location rest-row-meta-text\">Arlington</span>,\n",
       " <span class=\"rest-row-meta--location rest-row-meta-text\">Georgetown</span>,\n",
       " <span class=\"rest-row-meta--location rest-row-meta-text\">Friendship Heights</span>,\n",
       " <span class=\"rest-row-meta--location rest-row-meta-text\">Georgetown</span>,\n",
       " <span class=\"rest-row-meta--location rest-row-meta-text\">Georgetown</span>,\n",
       " <span class=\"rest-row-meta--location rest-row-meta-text\">Georgetown</span>,\n",
       " <span class=\"rest-row-meta--location rest-row-meta-text\">Arlington</span>,\n",
       " <span class=\"rest-row-meta--location rest-row-meta-text\">Tysons Corner / McLean</span>,\n",
       " <span class=\"rest-row-meta--location rest-row-meta-text\">Arlington</span>,\n",
       " <span class=\"rest-row-meta--location rest-row-meta-text\">Woodley Park</span>,\n",
       " <span class=\"rest-row-meta--location rest-row-meta-text\">Georgetown</span>,\n",
       " <span class=\"rest-row-meta--location rest-row-meta-text\">Foggy Bottom</span>,\n",
       " <span class=\"rest-row-meta--location rest-row-meta-text\">Foggy Bottom</span>,\n",
       " <span class=\"rest-row-meta--location rest-row-meta-text\">Georgetown</span>,\n",
       " <span class=\"rest-row-meta--location rest-row-meta-text\">Tysons Corner / McLean</span>,\n",
       " <span class=\"rest-row-meta--location rest-row-meta-text\">Dupont Circle</span>,\n",
       " <span class=\"rest-row-meta--location rest-row-meta-text\">Georgetown</span>,\n",
       " <span class=\"rest-row-meta--location rest-row-meta-text\">Georgetown</span>,\n",
       " <span class=\"rest-row-meta--location rest-row-meta-text\">Tysons Corner / McLean</span>,\n",
       " <span class=\"rest-row-meta--location rest-row-meta-text\">Tysons Corner / McLean</span>,\n",
       " <span class=\"rest-row-meta--location rest-row-meta-text\">Arlington</span>,\n",
       " <span class=\"rest-row-meta--location rest-row-meta-text\">Arlington</span>,\n",
       " <span class=\"rest-row-meta--location rest-row-meta-text\">Bethesda / Chevy Chase</span>,\n",
       " <span class=\"rest-row-meta--location rest-row-meta-text\">Woodley Park</span>,\n",
       " <span class=\"rest-row-meta--location rest-row-meta-text\">Friendship Heights</span>,\n",
       " <span class=\"rest-row-meta--location rest-row-meta-text\">West End</span>,\n",
       " <span class=\"rest-row-meta--location rest-row-meta-text\">Georgetown</span>,\n",
       " <span class=\"rest-row-meta--location rest-row-meta-text\">Georgetown</span>,\n",
       " <span class=\"rest-row-meta--location rest-row-meta-text\">West End</span>,\n",
       " <span class=\"rest-row-meta--location rest-row-meta-text\">Tysons Corner / McLean</span>,\n",
       " <span class=\"rest-row-meta--location rest-row-meta-text\">Georgetown</span>,\n",
       " <span class=\"rest-row-meta--location rest-row-meta-text\">Arlington</span>,\n",
       " <span class=\"rest-row-meta--location rest-row-meta-text\">Arlington</span>,\n",
       " <span class=\"rest-row-meta--location rest-row-meta-text\">Georgetown</span>,\n",
       " <span class=\"rest-row-meta--location rest-row-meta-text\">Tysons Corner / McLean</span>,\n",
       " <span class=\"rest-row-meta--location rest-row-meta-text\">Georgetown</span>,\n",
       " <span class=\"rest-row-meta--location rest-row-meta-text\">Foggy Bottom</span>,\n",
       " <span class=\"rest-row-meta--location rest-row-meta-text\">Falls Church</span>,\n",
       " <span class=\"rest-row-meta--location rest-row-meta-text\">McLean</span>,\n",
       " <span class=\"rest-row-meta--location rest-row-meta-text\">Arlington</span>,\n",
       " <span class=\"rest-row-meta--location rest-row-meta-text\">Arlington</span>,\n",
       " <span class=\"rest-row-meta--location rest-row-meta-text\">Arlington</span>,\n",
       " <span class=\"rest-row-meta--location rest-row-meta-text\">Tysons Corner / McLean</span>,\n",
       " <span class=\"rest-row-meta--location rest-row-meta-text\">Arlington</span>,\n",
       " <span class=\"rest-row-meta--location rest-row-meta-text\">Tysons Corner / McLean</span>,\n",
       " <span class=\"rest-row-meta--location rest-row-meta-text\">Georgetown</span>,\n",
       " <span class=\"rest-row-meta--location rest-row-meta-text\">Georgetown</span>,\n",
       " <span class=\"rest-row-meta--location rest-row-meta-text\">Bethesda / Chevy Chase</span>,\n",
       " <span class=\"rest-row-meta--location rest-row-meta-text\">Georgetown</span>,\n",
       " <span class=\"rest-row-meta--location rest-row-meta-text\">Arlington</span>,\n",
       " <span class=\"rest-row-meta--location rest-row-meta-text\">Dupont Circle</span>,\n",
       " <span class=\"rest-row-meta--location rest-row-meta-text\">Dupont Circle</span>,\n",
       " <span class=\"rest-row-meta--location rest-row-meta-text\">Foggy Bottom</span>]"
      ]
     },
     "execution_count": 17,
     "metadata": {},
     "output_type": "execute_result"
    }
   ],
   "source": [
    "# first, see if you can identify the location for all elements -- print it out\n",
    "soup.find_all('span', {'class':'rest-row-meta--location rest-row-meta-text'})"
   ]
  },
  {
   "cell_type": "code",
   "execution_count": 18,
   "metadata": {},
   "outputs": [
    {
     "name": "stdout",
     "output_type": "stream",
     "text": [
      "Arlington\n",
      "Arlington\n",
      "Georgetown\n",
      "West End\n",
      "West End\n",
      "Georgetown\n",
      "Arlington\n",
      "Foggy Bottom\n",
      "Foggy Bottom\n",
      "Cleveland Park\n",
      "Georgetown\n",
      "Georgetown\n",
      "Arlington\n",
      "Georgetown\n",
      "Dupont Circle\n",
      "Arlington\n",
      "Tysons Corner / McLean\n",
      "Foggy Bottom\n",
      "Foggy Bottom\n",
      "Vienna\n",
      "Georgetown\n",
      "Georgetown\n",
      "Arlington\n",
      "Falls Church\n",
      "Arlington\n",
      "Arlington\n",
      "Cleveland Park\n",
      "Dupont Circle\n",
      "Dupont Circle\n",
      "Tysons Corner / McLean\n",
      "Arlington\n",
      "Palisades Northwest\n",
      "Palisades Northwest\n",
      "Foggy Bottom\n",
      "Arlington\n",
      "Tysons Corner / McLean\n",
      "Dupont Circle\n",
      "Tysons Corner / McLean\n",
      "Arlington\n",
      "Georgetown\n",
      "Georgetown\n",
      "Arlington\n",
      "Dupont Circle\n",
      "Downtown\n",
      "Arlington\n",
      "Arlington\n",
      "Alexandria\n",
      "Arlington\n",
      "Georgetown\n",
      "Friendship Heights\n",
      "Georgetown\n",
      "Georgetown\n",
      "Georgetown\n",
      "Arlington\n",
      "Tysons Corner / McLean\n",
      "Arlington\n",
      "Woodley Park\n",
      "Georgetown\n",
      "Foggy Bottom\n",
      "Foggy Bottom\n",
      "Georgetown\n",
      "Tysons Corner / McLean\n",
      "Dupont Circle\n",
      "Georgetown\n",
      "Georgetown\n",
      "Tysons Corner / McLean\n",
      "Tysons Corner / McLean\n",
      "Arlington\n",
      "Arlington\n",
      "Bethesda / Chevy Chase\n",
      "Woodley Park\n",
      "Friendship Heights\n",
      "West End\n",
      "Georgetown\n",
      "Georgetown\n",
      "West End\n",
      "Tysons Corner / McLean\n",
      "Georgetown\n",
      "Arlington\n",
      "Arlington\n",
      "Georgetown\n",
      "Tysons Corner / McLean\n",
      "Georgetown\n",
      "Foggy Bottom\n",
      "Falls Church\n",
      "McLean\n",
      "Arlington\n",
      "Arlington\n",
      "Arlington\n",
      "Tysons Corner / McLean\n",
      "Arlington\n",
      "Tysons Corner / McLean\n",
      "Georgetown\n",
      "Georgetown\n",
      "Bethesda / Chevy Chase\n",
      "Georgetown\n",
      "Arlington\n",
      "Dupont Circle\n",
      "Dupont Circle\n",
      "Foggy Bottom\n"
     ]
    }
   ],
   "source": [
    "# now print out EACH location for the restaurants\n",
    "for entry in soup.find_all('span', {'class':'rest-row-meta--location rest-row-meta-text'}):\n",
    "    print entry.encode_contents()"
   ]
  },
  {
   "cell_type": "markdown",
   "metadata": {},
   "source": [
    "<a id=\"retrieving-prices\"></a>\n",
    "#### Retrieving the restaurant prices"
   ]
  },
  {
   "cell_type": "markdown",
   "metadata": {},
   "source": [
    "Ok, we've figured out the restaurant name and location. Now we need to grab the price (number of dollar signs on a scale of one to four) for each restaurant. We'll follow the same process."
   ]
  },
  {
   "cell_type": "code",
   "execution_count": 19,
   "metadata": {
    "scrolled": true
   },
   "outputs": [
    {
     "data": {
      "text/plain": [
       "[<div class=\"rest-row-pricing\"> <i>  $    $      </i>   $    $      </div>,\n",
       " <div class=\"rest-row-pricing\"> <i>  $    $      </i>   $    $      </div>,\n",
       " <div class=\"rest-row-pricing\"> <i>  $    $      </i>   $    $      </div>,\n",
       " <div class=\"rest-row-pricing\"> <i>  $    $    $    </i>   $        </div>,\n",
       " <div class=\"rest-row-pricing\"> <i>  $    $    $    </i>   $        </div>,\n",
       " <div class=\"rest-row-pricing\"> <i>  $    $      </i>   $    $      </div>,\n",
       " <div class=\"rest-row-pricing\"> <i>  $    $      </i>   $    $      </div>,\n",
       " <div class=\"rest-row-pricing\"> <i>  $    $      </i>   $    $      </div>,\n",
       " <div class=\"rest-row-pricing\"> <i>  $    $      </i>   $    $      </div>,\n",
       " <div class=\"rest-row-pricing\"> <i>  $    $      </i>   $    $      </div>,\n",
       " <div class=\"rest-row-pricing\"> <i>  $    $      </i>   $    $      </div>,\n",
       " <div class=\"rest-row-pricing\"> <i>  $    $      </i>   $    $      </div>,\n",
       " <div class=\"rest-row-pricing\"> <i>  $    $      </i>   $    $      </div>,\n",
       " <div class=\"rest-row-pricing\"> <i>  $    $    $    </i>   $        </div>,\n",
       " <div class=\"rest-row-pricing\"> <i>  $    $      </i>   $    $      </div>,\n",
       " <div class=\"rest-row-pricing\"> <i>  $    $      </i>   $    $      </div>,\n",
       " <div class=\"rest-row-pricing\"> <i>  $    $      </i>   $    $      </div>,\n",
       " <div class=\"rest-row-pricing\"> <i>  $    $      </i>   $    $      </div>,\n",
       " <div class=\"rest-row-pricing\"> <i>  $    $      </i>   $    $      </div>,\n",
       " <div class=\"rest-row-pricing\"> <i>  $    $      </i>   $    $      </div>,\n",
       " <div class=\"rest-row-pricing\"> <i>  $    $      </i>   $    $      </div>,\n",
       " <div class=\"rest-row-pricing\"> <i>  $    $      </i>   $    $      </div>,\n",
       " <div class=\"rest-row-pricing\"> <i>  $    $      </i>   $    $      </div>,\n",
       " <div class=\"rest-row-pricing\"> <i>  $    $      </i>   $    $      </div>,\n",
       " <div class=\"rest-row-pricing\"> <i>  $    $      </i>   $    $      </div>,\n",
       " <div class=\"rest-row-pricing\"> <i>  $    $      </i>   $    $      </div>,\n",
       " <div class=\"rest-row-pricing\"> <i>  $    $      </i>   $    $      </div>,\n",
       " <div class=\"rest-row-pricing\"> <i>  $    $      </i>   $    $      </div>,\n",
       " <div class=\"rest-row-pricing\"> <i>  $    $      </i>   $    $      </div>,\n",
       " <div class=\"rest-row-pricing\"> <i>  $    $      </i>   $    $      </div>,\n",
       " <div class=\"rest-row-pricing\"> <i>  $    $      </i>   $    $      </div>,\n",
       " <div class=\"rest-row-pricing\"> <i>  $    $    $    </i>   $        </div>,\n",
       " <div class=\"rest-row-pricing\"> <i>  $    $      </i>   $    $      </div>,\n",
       " <div class=\"rest-row-pricing\"> <i>  $    $      </i>   $    $      </div>,\n",
       " <div class=\"rest-row-pricing\"> <i>  $    $      </i>   $    $      </div>,\n",
       " <div class=\"rest-row-pricing\"> <i>  $    $    $    </i>   $        </div>,\n",
       " <div class=\"rest-row-pricing\"> <i>  $    $      </i>   $    $      </div>,\n",
       " <div class=\"rest-row-pricing\"> <i>  $    $      </i>   $    $      </div>,\n",
       " <div class=\"rest-row-pricing\"> <i>  $    $      </i>   $    $      </div>,\n",
       " <div class=\"rest-row-pricing\"> <i>  $    $    $    </i>   $        </div>,\n",
       " <div class=\"rest-row-pricing\"> <i>  $    $      </i>   $    $      </div>,\n",
       " <div class=\"rest-row-pricing\"> <i>  $    $      </i>   $    $      </div>,\n",
       " <div class=\"rest-row-pricing\"> <i>  $    $      </i>   $    $      </div>,\n",
       " <div class=\"rest-row-pricing\"> <i>  $    $    $    </i>   $        </div>,\n",
       " <div class=\"rest-row-pricing\"> <i>  $    $      </i>   $    $      </div>,\n",
       " <div class=\"rest-row-pricing\"> <i>  $    $      </i>   $    $      </div>,\n",
       " <div class=\"rest-row-pricing\"> <i>  $    $      </i>   $    $      </div>,\n",
       " <div class=\"rest-row-pricing\"> <i>  $    $      </i>   $    $      </div>,\n",
       " <div class=\"rest-row-pricing\"> <i>  $    $    $    </i>   $        </div>,\n",
       " <div class=\"rest-row-pricing\"> <i>  $    $      </i>   $    $      </div>,\n",
       " <div class=\"rest-row-pricing\"> <i>  $    $      </i>   $    $      </div>,\n",
       " <div class=\"rest-row-pricing\"> <i>  $    $      </i>   $    $      </div>,\n",
       " <div class=\"rest-row-pricing\"> <i>  $    $      </i>   $    $      </div>,\n",
       " <div class=\"rest-row-pricing\"> <i>  $    $      </i>   $    $      </div>,\n",
       " <div class=\"rest-row-pricing\"> <i>  $    $      </i>   $    $      </div>,\n",
       " <div class=\"rest-row-pricing\"> <i>  $    $      </i>   $    $      </div>,\n",
       " <div class=\"rest-row-pricing\"> <i>  $    $      </i>   $    $      </div>,\n",
       " <div class=\"rest-row-pricing\"> <i>  $    $      </i>   $    $      </div>,\n",
       " <div class=\"rest-row-pricing\"> <i>  $    $      </i>   $    $      </div>,\n",
       " <div class=\"rest-row-pricing\"> <i>  $    $    $    $  </i> </div>,\n",
       " <div class=\"rest-row-pricing\"> <i>  $    $      </i>   $    $      </div>,\n",
       " <div class=\"rest-row-pricing\"> <i>  $    $      </i>   $    $      </div>,\n",
       " <div class=\"rest-row-pricing\"> <i>  $    $    $    </i>   $        </div>,\n",
       " <div class=\"rest-row-pricing\"> <i>  $    $      </i>   $    $      </div>,\n",
       " <div class=\"rest-row-pricing\"> <i>  $    $      </i>   $    $      </div>,\n",
       " <div class=\"rest-row-pricing\"> <i>  $    $      </i>   $    $      </div>,\n",
       " <div class=\"rest-row-pricing\"> <i>  $    $      </i>   $    $      </div>,\n",
       " <div class=\"rest-row-pricing\"> <i>  $    $      </i>   $    $      </div>,\n",
       " <div class=\"rest-row-pricing\"> <i>  $    $      </i>   $    $      </div>,\n",
       " <div class=\"rest-row-pricing\"> <i>  $    $      </i>   $    $      </div>,\n",
       " <div class=\"rest-row-pricing\"> <i>  $    $      </i>   $    $      </div>,\n",
       " <div class=\"rest-row-pricing\"> <i>  $    $      </i>   $    $      </div>,\n",
       " <div class=\"rest-row-pricing\"> <i>  $    $      </i>   $    $      </div>,\n",
       " <div class=\"rest-row-pricing\"> <i>  $    $      </i>   $    $      </div>,\n",
       " <div class=\"rest-row-pricing\"> <i>  $    $      </i>   $    $      </div>,\n",
       " <div class=\"rest-row-pricing\"> <i>  $    $    $    </i>   $        </div>,\n",
       " <div class=\"rest-row-pricing\"> <i>  $    $    $    </i>   $        </div>,\n",
       " <div class=\"rest-row-pricing\"> <i>  $    $    $    </i>   $        </div>,\n",
       " <div class=\"rest-row-pricing\"> <i>  $    $    $    </i>   $        </div>,\n",
       " <div class=\"rest-row-pricing\"> <i>  $    $      </i>   $    $      </div>,\n",
       " <div class=\"rest-row-pricing\"> <i>  $    $    $    $  </i> </div>,\n",
       " <div class=\"rest-row-pricing\"> <i>  $    $      </i>   $    $      </div>,\n",
       " <div class=\"rest-row-pricing\"> <i>  $    $    $    </i>   $        </div>,\n",
       " <div class=\"rest-row-pricing\"> <i>  $    $    $    </i>   $        </div>,\n",
       " <div class=\"rest-row-pricing\"> <i>  $    $      </i>   $    $      </div>,\n",
       " <div class=\"rest-row-pricing\"> <i>  $    $    $    </i>   $        </div>,\n",
       " <div class=\"rest-row-pricing\"> <i>  $    $      </i>   $    $      </div>,\n",
       " <div class=\"rest-row-pricing\"> <i>  $    $    $    </i>   $        </div>,\n",
       " <div class=\"rest-row-pricing\"> <i>  $    $      </i>   $    $      </div>,\n",
       " <div class=\"rest-row-pricing\"> <i>  $    $      </i>   $    $      </div>,\n",
       " <div class=\"rest-row-pricing\"> <i>  $    $      </i>   $    $      </div>,\n",
       " <div class=\"rest-row-pricing\"> <i>  $    $    $    </i>   $        </div>,\n",
       " <div class=\"rest-row-pricing\"> <i>  $    $      </i>   $    $      </div>,\n",
       " <div class=\"rest-row-pricing\"> <i>  $    $    $    </i>   $        </div>,\n",
       " <div class=\"rest-row-pricing\"> <i>  $    $      </i>   $    $      </div>,\n",
       " <div class=\"rest-row-pricing\"> <i>  $    $      </i>   $    $      </div>,\n",
       " <div class=\"rest-row-pricing\"> <i>  $    $      </i>   $    $      </div>,\n",
       " <div class=\"rest-row-pricing\"> <i>  $    $      </i>   $    $      </div>,\n",
       " <div class=\"rest-row-pricing\"> <i>  $    $      </i>   $    $      </div>,\n",
       " <div class=\"rest-row-pricing\"> <i>  $    $      </i>   $    $      </div>]"
      ]
     },
     "execution_count": 19,
     "metadata": {},
     "output_type": "execute_result"
    }
   ],
   "source": [
    "# print out all prices\n",
    "soup.find_all('div', {'class':'rest-row-pricing'})"
   ]
  },
  {
   "cell_type": "code",
   "execution_count": 22,
   "metadata": {},
   "outputs": [
    {
     "name": "stdout",
     "output_type": "stream",
     "text": [
      "  $    $      \n",
      "  $    $      \n",
      "  $    $      \n",
      "  $    $    $    \n",
      "  $    $    $    \n",
      "  $    $      \n",
      "  $    $      \n",
      "  $    $      \n",
      "  $    $      \n",
      "  $    $      \n",
      "  $    $      \n",
      "  $    $      \n",
      "  $    $      \n",
      "  $    $    $    \n",
      "  $    $      \n",
      "  $    $      \n",
      "  $    $      \n",
      "  $    $      \n",
      "  $    $      \n",
      "  $    $      \n",
      "  $    $      \n",
      "  $    $      \n",
      "  $    $      \n",
      "  $    $      \n",
      "  $    $      \n",
      "  $    $      \n",
      "  $    $      \n",
      "  $    $      \n",
      "  $    $      \n",
      "  $    $      \n",
      "  $    $      \n",
      "  $    $    $    \n",
      "  $    $      \n",
      "  $    $      \n",
      "  $    $      \n",
      "  $    $    $    \n",
      "  $    $      \n",
      "  $    $      \n",
      "  $    $      \n",
      "  $    $    $    \n",
      "  $    $      \n",
      "  $    $      \n",
      "  $    $      \n",
      "  $    $    $    \n",
      "  $    $      \n",
      "  $    $      \n",
      "  $    $      \n",
      "  $    $      \n",
      "  $    $    $    \n",
      "  $    $      \n",
      "  $    $      \n",
      "  $    $      \n",
      "  $    $      \n",
      "  $    $      \n",
      "  $    $      \n",
      "  $    $      \n",
      "  $    $      \n",
      "  $    $      \n",
      "  $    $      \n",
      "  $    $    $    $  \n",
      "  $    $      \n",
      "  $    $      \n",
      "  $    $    $    \n",
      "  $    $      \n",
      "  $    $      \n",
      "  $    $      \n",
      "  $    $      \n",
      "  $    $      \n",
      "  $    $      \n",
      "  $    $      \n",
      "  $    $      \n",
      "  $    $      \n",
      "  $    $      \n",
      "  $    $      \n",
      "  $    $      \n",
      "  $    $    $    \n",
      "  $    $    $    \n",
      "  $    $    $    \n",
      "  $    $    $    \n",
      "  $    $      \n",
      "  $    $    $    $  \n",
      "  $    $      \n",
      "  $    $    $    \n",
      "  $    $    $    \n",
      "  $    $      \n",
      "  $    $    $    \n",
      "  $    $      \n",
      "  $    $    $    \n",
      "  $    $      \n",
      "  $    $      \n",
      "  $    $      \n",
      "  $    $    $    \n",
      "  $    $      \n",
      "  $    $    $    \n",
      "  $    $      \n",
      "  $    $      \n",
      "  $    $      \n",
      "  $    $      \n",
      "  $    $      \n",
      "  $    $      \n"
     ]
    }
   ],
   "source": [
    "# print out EACH number of dollar signs per restaurant\n",
    "# this one is trickier to eliminate the html. Hint: try a nested find\n",
    "for entry in soup.find_all('div', {'class':'rest-row-pricing'}):\n",
    "    print entry.find('i').encode_contents()"
   ]
  },
  {
   "cell_type": "markdown",
   "metadata": {},
   "source": [
    "That looks great, but what if I wanted just the number of dollar signs per restaurant? Can you figure out a way to simply print out the number of dollar signs per restaurant listed?"
   ]
  },
  {
   "cell_type": "code",
   "execution_count": 23,
   "metadata": {},
   "outputs": [
    {
     "name": "stdout",
     "output_type": "stream",
     "text": [
      "2\n",
      "2\n",
      "2\n",
      "3\n",
      "3\n",
      "2\n",
      "2\n",
      "2\n",
      "2\n",
      "2\n",
      "2\n",
      "2\n",
      "2\n",
      "3\n",
      "2\n",
      "2\n",
      "2\n",
      "2\n",
      "2\n",
      "2\n",
      "2\n",
      "2\n",
      "2\n",
      "2\n",
      "2\n",
      "2\n",
      "2\n",
      "2\n",
      "2\n",
      "2\n",
      "2\n",
      "3\n",
      "2\n",
      "2\n",
      "2\n",
      "3\n",
      "2\n",
      "2\n",
      "2\n",
      "3\n",
      "2\n",
      "2\n",
      "2\n",
      "3\n",
      "2\n",
      "2\n",
      "2\n",
      "2\n",
      "3\n",
      "2\n",
      "2\n",
      "2\n",
      "2\n",
      "2\n",
      "2\n",
      "2\n",
      "2\n",
      "2\n",
      "2\n",
      "4\n",
      "2\n",
      "2\n",
      "3\n",
      "2\n",
      "2\n",
      "2\n",
      "2\n",
      "2\n",
      "2\n",
      "2\n",
      "2\n",
      "2\n",
      "2\n",
      "2\n",
      "2\n",
      "3\n",
      "3\n",
      "3\n",
      "3\n",
      "2\n",
      "4\n",
      "2\n",
      "3\n",
      "3\n",
      "2\n",
      "3\n",
      "2\n",
      "3\n",
      "2\n",
      "2\n",
      "2\n",
      "3\n",
      "2\n",
      "3\n",
      "2\n",
      "2\n",
      "2\n",
      "2\n",
      "2\n",
      "2\n"
     ]
    }
   ],
   "source": [
    "# print the number of dollars signs per restaurant\n",
    "for entry in soup.find_all('div', {'class':'rest-row-pricing'}):\n",
    "    price = entry.find('i').renderContents()\n",
    "    print price.count('$')"
   ]
  },
  {
   "cell_type": "markdown",
   "metadata": {},
   "source": [
    "Phew, nice work. \n",
    "\n",
    "<a id=\"retrieving-bookings\"></a>\n",
    "#### Retrieving the restaurant number of bookings\n",
    "\n",
    "One more, right? We only need to find the number times a restaurant was booked. In the next cell, print out all objects that contain the number of times the restaurant was booked."
   ]
  },
  {
   "cell_type": "code",
   "execution_count": 24,
   "metadata": {},
   "outputs": [
    {
     "data": {
      "text/plain": [
       "[]"
      ]
     },
     "execution_count": 24,
     "metadata": {},
     "output_type": "execute_result"
    }
   ],
   "source": [
    "# print out all objects that contain the number of times the restaurant was booked\n",
    "soup.find_all('div', {'class':'booking'})"
   ]
  },
  {
   "cell_type": "markdown",
   "metadata": {},
   "source": [
    "That's weird -- an empty set. Did we find the wrong element? What's going on here? Discuss.\n",
    "\n",
    "How can we debug this? Any ideas?"
   ]
  },
  {
   "cell_type": "code",
   "execution_count": 30,
   "metadata": {
    "collapsed": true
   },
   "outputs": [],
   "source": [
    "# let's first try printing out all 'div' objects\n",
    "#  NOTE: This is a too many objects to store in this notebook!\n",
    "#        So, uncomment the code below to run it.\n",
    "\n",
    "# for entry in soup.find_all('div'):\n",
    "#     print entry"
   ]
  },
  {
   "cell_type": "markdown",
   "metadata": {},
   "source": [
    "I still don't see it. Let's search our entire soup object:"
   ]
  },
  {
   "cell_type": "code",
   "execution_count": 31,
   "metadata": {
    "collapsed": true
   },
   "outputs": [],
   "source": [
    "# print out soup, do command+f for \"booked \". \n",
    "#   Uncomment the below to run.\n",
    "\n",
    "# soup"
   ]
  },
  {
   "cell_type": "markdown",
   "metadata": {},
   "source": [
    "What do you notice? Why is this happening?"
   ]
  },
  {
   "cell_type": "markdown",
   "metadata": {},
   "source": [
    "<a id=\"selenium\"></a>\n",
    "## Introducing Selenium\n",
    "\n",
    "Selenium is a headless browser. It allows us to render JavaScript just as a human-navigated browser would.\n",
    "\n",
    "To install Selenium, use one of the following:\n",
    "- **Anaconda:** `conda install -c conda-forge selenium`\n",
    "- **pip:** `pip install selenium`\n",
    "\n",
    "You will also need GeckoDriver (this assumes you are using Homebrew for Mac): \n",
    "\n",
    "- ```brew install geckodriver```\n",
    "\n",
    "Additionally, you will need to have downloaded the [Firefox browser](https://www.mozilla.org/en-US/firefox/new/?utm_source=google&utm_medium=cpc&utm_campaign=Firefox-Brand-US-GGL-Exact&utm_term=firefox&utm_content=A144_A203_A006336&gclid=Cj0KEQjwnPLKBRC-j7nt1b7OlZwBEiQAv8lMLJUyReT6cPzSYdmEA6uD3YDoieuuuusddgAU7XH6smEaAoje8P8HAQ&gclsrc=aw.ds) for the application in this lesson."
   ]
  },
  {
   "cell_type": "code",
   "execution_count": 34,
   "metadata": {
    "collapsed": true
   },
   "outputs": [],
   "source": [
    "# import\n",
    "from selenium import webdriver"
   ]
  },
  {
   "cell_type": "markdown",
   "metadata": {},
   "source": [
    "Selenium requires us to determine a default browser to run. I'm going to opt for Firefox, but Chromium is also a very common choice. http://selenium-python.readthedocs.io/faq.html"
   ]
  },
  {
   "cell_type": "code",
   "execution_count": 35,
   "metadata": {
    "collapsed": true
   },
   "outputs": [],
   "source": [
    "# STOP\n",
    "# what is going to happen when I run the next cell?"
   ]
  },
  {
   "cell_type": "code",
   "execution_count": 38,
   "metadata": {
    "collapsed": true
   },
   "outputs": [],
   "source": [
    "# create a driver called Firefox\n",
    "driver = webdriver.Firefox()"
   ]
  },
  {
   "cell_type": "markdown",
   "metadata": {},
   "source": [
    "Pretty crazy, right? Let's close that driver."
   ]
  },
  {
   "cell_type": "code",
   "execution_count": 39,
   "metadata": {
    "collapsed": true
   },
   "outputs": [],
   "source": [
    "# close it\n",
    "driver.close()"
   ]
  },
  {
   "cell_type": "code",
   "execution_count": 40,
   "metadata": {
    "collapsed": true
   },
   "outputs": [],
   "source": [
    "# let's boot it up, and visit a URL of our choice\n",
    "driver = webdriver.Firefox()\n",
    "driver.get(\"http://www.python.org\")"
   ]
  },
  {
   "cell_type": "markdown",
   "metadata": {},
   "source": [
    "Awesome. Now we're getting somewhere: programmatically controlling our browser like a human."
   ]
  },
  {
   "cell_type": "markdown",
   "metadata": {},
   "source": [
    "Let's return to our problem at hand. We need to visit the OpenTable listing for DC. Once there, we need to get the html to load. In the next cell, prove you can programmatically visit the page."
   ]
  },
  {
   "cell_type": "code",
   "execution_count": 41,
   "metadata": {
    "collapsed": true
   },
   "outputs": [],
   "source": [
    "# visit our OpenTable page\n",
    "driver = webdriver.Firefox()\n",
    "driver.get(\"http://www.opentable.com/washington-dc-restaurant-listings\")\n",
    "# always good to check we've got the page we think we do\n",
    "assert \"OpenTable\" in driver.title"
   ]
  },
  {
   "cell_type": "code",
   "execution_count": 42,
   "metadata": {},
   "outputs": [
    {
     "data": {
      "text/plain": [
       "u'Washington, D.C. Area Restaurants List | OpenTable'"
      ]
     },
     "execution_count": 42,
     "metadata": {},
     "output_type": "execute_result"
    }
   ],
   "source": [
    "driver.title"
   ]
  },
  {
   "cell_type": "code",
   "execution_count": 43,
   "metadata": {
    "collapsed": true
   },
   "outputs": [],
   "source": [
    "driver.close()"
   ]
  },
  {
   "cell_type": "markdown",
   "metadata": {},
   "source": [
    "<a id=\"selenium-js\"></a>\n",
    "### Running JavaScript before scraping\n",
    "\n",
    "Now, to resolve our JavaScript problem, there's a few things we can do. What I'll do in this case is request that the page load, wait one second, and then I'm going to grab the source html from the page. Because the page should believe I'm visiting from a live connection on a browser client, the JavaScript should render to be a part of the page source. I can then grab the page source."
   ]
  },
  {
   "cell_type": "code",
   "execution_count": 44,
   "metadata": {
    "collapsed": true
   },
   "outputs": [],
   "source": [
    "# import sleep\n",
    "from time import sleep"
   ]
  },
  {
   "cell_type": "code",
   "execution_count": 45,
   "metadata": {
    "collapsed": true
   },
   "outputs": [],
   "source": [
    "# visit our relevant page\n",
    "driver = webdriver.Firefox()\n",
    "driver.get(\"http://www.opentable.com/washington-dc-restaurant-listings\")\n",
    "# wait one second\n",
    "sleep(1)\n",
    "#grab the page source\n",
    "html = driver.page_source"
   ]
  },
  {
   "cell_type": "markdown",
   "metadata": {},
   "source": [
    "**Pop Quiz:** What do we need to do with this HTML?"
   ]
  },
  {
   "cell_type": "code",
   "execution_count": 47,
   "metadata": {
    "collapsed": true
   },
   "outputs": [],
   "source": [
    "# BeautifulSoup it!\n",
    "html = BeautifulSoup(html, \"lxml\")"
   ]
  },
  {
   "cell_type": "markdown",
   "metadata": {},
   "source": [
    "Now, let's return to our earlier problem: How do we locate bookings on the page?"
   ]
  },
  {
   "cell_type": "code",
   "execution_count": 48,
   "metadata": {},
   "outputs": [
    {
     "data": {
      "text/plain": [
       "[<div class=\"booking\"><span class=\"tadpole\"></span>Booked 29 times today</div>,\n",
       " <div class=\"booking\"><span class=\"tadpole\"></span>Booked 181 times today</div>,\n",
       " <div class=\"booking\"><span class=\"tadpole\"></span>Booked 45 times today</div>,\n",
       " <div class=\"booking\"><span class=\"tadpole\"></span>Booked 69 times today</div>,\n",
       " <div class=\"booking\"><span class=\"tadpole\"></span>Booked 89 times today</div>,\n",
       " <div class=\"booking\"><span class=\"tadpole\"></span>Booked 283 times today</div>,\n",
       " <div class=\"booking\"><span class=\"tadpole\"></span>Booked 147 times today</div>,\n",
       " <div class=\"booking\"><span class=\"tadpole\"></span>Booked 178 times today</div>,\n",
       " <div class=\"booking\"><span class=\"tadpole\"></span>Booked 309 times today</div>,\n",
       " <div class=\"booking\"><span class=\"tadpole\"></span>Booked 332 times today</div>,\n",
       " <div class=\"booking\"><span class=\"tadpole\"></span>Booked 30 times today</div>,\n",
       " <div class=\"booking\"><span class=\"tadpole\"></span>Booked 80 times today</div>,\n",
       " <div class=\"booking\"><span class=\"tadpole\"></span>Booked 53 times today</div>,\n",
       " <div class=\"booking\"><span class=\"tadpole\"></span>Booked 31 times today</div>,\n",
       " <div class=\"booking\"><span class=\"tadpole\"></span>Booked 56 times today</div>,\n",
       " <div class=\"booking\"><span class=\"tadpole\"></span>Booked 572 times today</div>,\n",
       " <div class=\"booking\"><span class=\"tadpole\"></span>Booked 42 times today</div>,\n",
       " <div class=\"booking\"><span class=\"tadpole\"></span>Booked 81 times today</div>,\n",
       " <div class=\"booking\"><span class=\"tadpole\"></span>Booked 30 times today</div>,\n",
       " <div class=\"booking\"><span class=\"tadpole\"></span>Booked 43 times today</div>,\n",
       " <div class=\"booking\"><span class=\"tadpole\"></span>Booked 29 times today</div>,\n",
       " <div class=\"booking\"><span class=\"tadpole\"></span>Booked 147 times today</div>,\n",
       " <div class=\"booking\"><span class=\"tadpole\"></span>Booked 71 times today</div>,\n",
       " <div class=\"booking\"><span class=\"tadpole\"></span>Booked 21 times today</div>,\n",
       " <div class=\"booking\"><span class=\"tadpole\"></span>Booked 195 times today</div>,\n",
       " <div class=\"booking\"><span class=\"tadpole\"></span>Booked 85 times today</div>,\n",
       " <div class=\"booking\"><span class=\"tadpole\"></span>Booked 43 times today</div>,\n",
       " <div class=\"booking\"><span class=\"tadpole\"></span>Booked 36 times today</div>,\n",
       " <div class=\"booking\"><span class=\"tadpole\"></span>Booked 29 times today</div>,\n",
       " <div class=\"booking\"><span class=\"tadpole\"></span>Booked 33 times today</div>,\n",
       " <div class=\"booking\"><span class=\"tadpole\"></span>Booked 37 times today</div>,\n",
       " <div class=\"booking\"><span class=\"tadpole\"></span>Booked 35 times today</div>,\n",
       " <div class=\"booking\"><span class=\"tadpole\"></span>Booked 206 times today</div>,\n",
       " <div class=\"booking\"><span class=\"tadpole\"></span>Booked 85 times today</div>,\n",
       " <div class=\"booking\"><span class=\"tadpole\"></span>Booked 34 times today</div>,\n",
       " <div class=\"booking\"><span class=\"tadpole\"></span>Booked 22 times today</div>,\n",
       " <div class=\"booking\"><span class=\"tadpole\"></span>Booked 51 times today</div>,\n",
       " <div class=\"booking\"><span class=\"tadpole\"></span>Booked 79 times today</div>,\n",
       " <div class=\"booking\"><span class=\"tadpole\"></span>Booked 101 times today</div>,\n",
       " <div class=\"booking\"><span class=\"tadpole\"></span>Booked 58 times today</div>,\n",
       " <div class=\"booking\"><span class=\"tadpole\"></span>Booked 29 times today</div>,\n",
       " <div class=\"booking\"><span class=\"tadpole\"></span>Booked 91 times today</div>,\n",
       " <div class=\"booking\"><span class=\"tadpole\"></span>Booked 78 times today</div>,\n",
       " <div class=\"booking\"><span class=\"tadpole\"></span>Booked 221 times today</div>,\n",
       " <div class=\"booking\"><span class=\"tadpole\"></span>Booked 265 times today</div>,\n",
       " <div class=\"booking\"><span class=\"tadpole\"></span>Booked 33 times today</div>,\n",
       " <div class=\"booking\"><span class=\"tadpole\"></span>Booked 18 times today</div>,\n",
       " <div class=\"booking\"><span class=\"tadpole\"></span>Booked 49 times today</div>,\n",
       " <div class=\"booking\"><span class=\"tadpole\"></span>Booked 24 times today</div>,\n",
       " <div class=\"booking\"><span class=\"tadpole\"></span>Booked 40 times today</div>,\n",
       " <div class=\"booking\"><span class=\"tadpole\"></span>Booked 58 times today</div>,\n",
       " <div class=\"booking\"><span class=\"tadpole\"></span>Booked 24 times today</div>,\n",
       " <div class=\"booking\"><span class=\"tadpole\"></span>Booked 31 times today</div>,\n",
       " <div class=\"booking\"><span class=\"tadpole\"></span>Booked 27 times today</div>,\n",
       " <div class=\"booking\"><span class=\"tadpole\"></span>Booked 35 times today</div>,\n",
       " <div class=\"booking\"><span class=\"tadpole\"></span>Booked 265 times today</div>,\n",
       " <div class=\"booking\"><span class=\"tadpole\"></span>Booked 39 times today</div>,\n",
       " <div class=\"booking\"><span class=\"tadpole\"></span>Booked 353 times today</div>,\n",
       " <div class=\"booking\"><span class=\"tadpole\"></span>Booked 35 times today</div>,\n",
       " <div class=\"booking\"><span class=\"tadpole\"></span>Booked 30 times today</div>,\n",
       " <div class=\"booking\"><span class=\"tadpole\"></span>Booked 12 times today</div>,\n",
       " <div class=\"booking\"><span class=\"tadpole\"></span>Booked 12 times today</div>,\n",
       " <div class=\"booking\"><span class=\"tadpole\"></span>Booked 30 times today</div>,\n",
       " <div class=\"booking\"><span class=\"tadpole\"></span>Booked 62 times today</div>,\n",
       " <div class=\"booking\"><span class=\"tadpole\"></span>Booked 92 times today</div>,\n",
       " <div class=\"booking\"><span class=\"tadpole\"></span>Booked 44 times today</div>,\n",
       " <div class=\"booking\"><span class=\"tadpole\"></span>Booked 8 times today</div>,\n",
       " <div class=\"booking\"><span class=\"tadpole\"></span>Booked 50 times today</div>,\n",
       " <div class=\"booking\"><span class=\"tadpole\"></span>Booked 40 times today</div>,\n",
       " <div class=\"booking\"><span class=\"tadpole\"></span>Booked 55 times today</div>,\n",
       " <div class=\"booking\"><span class=\"tadpole\"></span>Booked 15 times today</div>,\n",
       " <div class=\"booking\"><span class=\"tadpole\"></span>Booked 22 times today</div>,\n",
       " <div class=\"booking\"><span class=\"tadpole\"></span>Booked 99 times today</div>,\n",
       " <div class=\"booking\"><span class=\"tadpole\"></span>Booked 30 times today</div>,\n",
       " <div class=\"booking\"><span class=\"tadpole\"></span>Booked 24 times today</div>,\n",
       " <div class=\"booking\"><span class=\"tadpole\"></span>Booked 13 times today</div>,\n",
       " <div class=\"booking\"><span class=\"tadpole\"></span>Booked 16 times today</div>,\n",
       " <div class=\"booking\"><span class=\"tadpole\"></span>Booked 13 times today</div>,\n",
       " <div class=\"booking\"><span class=\"tadpole\"></span>Booked 82 times today</div>,\n",
       " <div class=\"booking\"><span class=\"tadpole\"></span>Booked 17 times today</div>,\n",
       " <div class=\"booking\"><span class=\"tadpole\"></span>Booked 68 times today</div>,\n",
       " <div class=\"booking\"><span class=\"tadpole\"></span>Booked 14 times today</div>,\n",
       " <div class=\"booking\"><span class=\"tadpole\"></span>Booked 50 times today</div>,\n",
       " <div class=\"booking\"><span class=\"tadpole\"></span>Booked 34 times today</div>,\n",
       " <div class=\"booking\"><span class=\"tadpole\"></span>Booked 16 times today</div>,\n",
       " <div class=\"booking\"><span class=\"tadpole\"></span>Booked 28 times today</div>,\n",
       " <div class=\"booking\"><span class=\"tadpole\"></span>Booked 15 times today</div>,\n",
       " <div class=\"booking\"><span class=\"tadpole\"></span>Booked 30 times today</div>,\n",
       " <div class=\"booking\"><span class=\"tadpole\"></span>Booked 30 times today</div>,\n",
       " <div class=\"booking\"><span class=\"tadpole\"></span>Booked 21 times today</div>,\n",
       " <div class=\"booking\"><span class=\"tadpole\"></span>Booked 84 times today</div>,\n",
       " <div class=\"booking\"><span class=\"tadpole\"></span>Booked 12 times today</div>,\n",
       " <div class=\"booking\"><span class=\"tadpole\"></span>Booked 37 times today</div>,\n",
       " <div class=\"booking\"><span class=\"tadpole\"></span>Booked 88 times today</div>,\n",
       " <div class=\"booking\"><span class=\"tadpole\"></span>Booked 14 times today</div>,\n",
       " <div class=\"booking\"><span class=\"tadpole\"></span>Booked 29 times today</div>,\n",
       " <div class=\"booking\"><span class=\"tadpole\"></span>Booked 12 times today</div>,\n",
       " <div class=\"booking\"><span class=\"tadpole\"></span>Booked 16 times today</div>,\n",
       " <div class=\"booking\"><span class=\"tadpole\"></span>Booked 64 times today</div>]"
      ]
     },
     "execution_count": 48,
     "metadata": {},
     "output_type": "execute_result"
    }
   ],
   "source": [
    "# print out the number bookings for all restaurants\n",
    "html.find_all('div', {'class':'booking'})"
   ]
  },
  {
   "cell_type": "code",
   "execution_count": 49,
   "metadata": {
    "scrolled": true
   },
   "outputs": [
    {
     "name": "stdout",
     "output_type": "stream",
     "text": [
      "<div class=\"booking\"><span class=\"tadpole\"></span>Booked 29 times today</div>\n",
      "<div class=\"booking\"><span class=\"tadpole\"></span>Booked 181 times today</div>\n",
      "<div class=\"booking\"><span class=\"tadpole\"></span>Booked 45 times today</div>\n",
      "<div class=\"booking\"><span class=\"tadpole\"></span>Booked 69 times today</div>\n",
      "<div class=\"booking\"><span class=\"tadpole\"></span>Booked 89 times today</div>\n",
      "<div class=\"booking\"><span class=\"tadpole\"></span>Booked 283 times today</div>\n",
      "<div class=\"booking\"><span class=\"tadpole\"></span>Booked 147 times today</div>\n",
      "<div class=\"booking\"><span class=\"tadpole\"></span>Booked 178 times today</div>\n",
      "<div class=\"booking\"><span class=\"tadpole\"></span>Booked 309 times today</div>\n",
      "<div class=\"booking\"><span class=\"tadpole\"></span>Booked 332 times today</div>\n",
      "<div class=\"booking\"><span class=\"tadpole\"></span>Booked 30 times today</div>\n",
      "<div class=\"booking\"><span class=\"tadpole\"></span>Booked 80 times today</div>\n",
      "<div class=\"booking\"><span class=\"tadpole\"></span>Booked 53 times today</div>\n",
      "<div class=\"booking\"><span class=\"tadpole\"></span>Booked 31 times today</div>\n",
      "<div class=\"booking\"><span class=\"tadpole\"></span>Booked 56 times today</div>\n",
      "<div class=\"booking\"><span class=\"tadpole\"></span>Booked 572 times today</div>\n",
      "<div class=\"booking\"><span class=\"tadpole\"></span>Booked 42 times today</div>\n",
      "<div class=\"booking\"><span class=\"tadpole\"></span>Booked 81 times today</div>\n",
      "<div class=\"booking\"><span class=\"tadpole\"></span>Booked 30 times today</div>\n",
      "<div class=\"booking\"><span class=\"tadpole\"></span>Booked 43 times today</div>\n",
      "<div class=\"booking\"><span class=\"tadpole\"></span>Booked 29 times today</div>\n",
      "<div class=\"booking\"><span class=\"tadpole\"></span>Booked 147 times today</div>\n",
      "<div class=\"booking\"><span class=\"tadpole\"></span>Booked 71 times today</div>\n",
      "<div class=\"booking\"><span class=\"tadpole\"></span>Booked 21 times today</div>\n",
      "<div class=\"booking\"><span class=\"tadpole\"></span>Booked 195 times today</div>\n",
      "<div class=\"booking\"><span class=\"tadpole\"></span>Booked 85 times today</div>\n",
      "<div class=\"booking\"><span class=\"tadpole\"></span>Booked 43 times today</div>\n",
      "<div class=\"booking\"><span class=\"tadpole\"></span>Booked 36 times today</div>\n",
      "<div class=\"booking\"><span class=\"tadpole\"></span>Booked 29 times today</div>\n",
      "<div class=\"booking\"><span class=\"tadpole\"></span>Booked 33 times today</div>\n",
      "<div class=\"booking\"><span class=\"tadpole\"></span>Booked 37 times today</div>\n",
      "<div class=\"booking\"><span class=\"tadpole\"></span>Booked 35 times today</div>\n",
      "<div class=\"booking\"><span class=\"tadpole\"></span>Booked 206 times today</div>\n",
      "<div class=\"booking\"><span class=\"tadpole\"></span>Booked 85 times today</div>\n",
      "<div class=\"booking\"><span class=\"tadpole\"></span>Booked 34 times today</div>\n",
      "<div class=\"booking\"><span class=\"tadpole\"></span>Booked 22 times today</div>\n",
      "<div class=\"booking\"><span class=\"tadpole\"></span>Booked 51 times today</div>\n",
      "<div class=\"booking\"><span class=\"tadpole\"></span>Booked 79 times today</div>\n",
      "<div class=\"booking\"><span class=\"tadpole\"></span>Booked 101 times today</div>\n",
      "<div class=\"booking\"><span class=\"tadpole\"></span>Booked 58 times today</div>\n",
      "<div class=\"booking\"><span class=\"tadpole\"></span>Booked 29 times today</div>\n",
      "<div class=\"booking\"><span class=\"tadpole\"></span>Booked 91 times today</div>\n",
      "<div class=\"booking\"><span class=\"tadpole\"></span>Booked 78 times today</div>\n",
      "<div class=\"booking\"><span class=\"tadpole\"></span>Booked 221 times today</div>\n",
      "<div class=\"booking\"><span class=\"tadpole\"></span>Booked 265 times today</div>\n",
      "<div class=\"booking\"><span class=\"tadpole\"></span>Booked 33 times today</div>\n",
      "<div class=\"booking\"><span class=\"tadpole\"></span>Booked 18 times today</div>\n",
      "<div class=\"booking\"><span class=\"tadpole\"></span>Booked 49 times today</div>\n",
      "<div class=\"booking\"><span class=\"tadpole\"></span>Booked 24 times today</div>\n",
      "<div class=\"booking\"><span class=\"tadpole\"></span>Booked 40 times today</div>\n",
      "<div class=\"booking\"><span class=\"tadpole\"></span>Booked 58 times today</div>\n",
      "<div class=\"booking\"><span class=\"tadpole\"></span>Booked 24 times today</div>\n",
      "<div class=\"booking\"><span class=\"tadpole\"></span>Booked 31 times today</div>\n",
      "<div class=\"booking\"><span class=\"tadpole\"></span>Booked 27 times today</div>\n",
      "<div class=\"booking\"><span class=\"tadpole\"></span>Booked 35 times today</div>\n",
      "<div class=\"booking\"><span class=\"tadpole\"></span>Booked 265 times today</div>\n",
      "<div class=\"booking\"><span class=\"tadpole\"></span>Booked 39 times today</div>\n",
      "<div class=\"booking\"><span class=\"tadpole\"></span>Booked 353 times today</div>\n",
      "<div class=\"booking\"><span class=\"tadpole\"></span>Booked 35 times today</div>\n",
      "<div class=\"booking\"><span class=\"tadpole\"></span>Booked 30 times today</div>\n",
      "<div class=\"booking\"><span class=\"tadpole\"></span>Booked 12 times today</div>\n",
      "<div class=\"booking\"><span class=\"tadpole\"></span>Booked 12 times today</div>\n",
      "<div class=\"booking\"><span class=\"tadpole\"></span>Booked 30 times today</div>\n",
      "<div class=\"booking\"><span class=\"tadpole\"></span>Booked 62 times today</div>\n",
      "<div class=\"booking\"><span class=\"tadpole\"></span>Booked 92 times today</div>\n",
      "<div class=\"booking\"><span class=\"tadpole\"></span>Booked 44 times today</div>\n",
      "<div class=\"booking\"><span class=\"tadpole\"></span>Booked 8 times today</div>\n",
      "<div class=\"booking\"><span class=\"tadpole\"></span>Booked 50 times today</div>\n",
      "<div class=\"booking\"><span class=\"tadpole\"></span>Booked 40 times today</div>\n",
      "<div class=\"booking\"><span class=\"tadpole\"></span>Booked 55 times today</div>\n",
      "<div class=\"booking\"><span class=\"tadpole\"></span>Booked 15 times today</div>\n",
      "<div class=\"booking\"><span class=\"tadpole\"></span>Booked 22 times today</div>\n",
      "<div class=\"booking\"><span class=\"tadpole\"></span>Booked 99 times today</div>\n",
      "<div class=\"booking\"><span class=\"tadpole\"></span>Booked 30 times today</div>\n",
      "<div class=\"booking\"><span class=\"tadpole\"></span>Booked 24 times today</div>\n",
      "<div class=\"booking\"><span class=\"tadpole\"></span>Booked 13 times today</div>\n",
      "<div class=\"booking\"><span class=\"tadpole\"></span>Booked 16 times today</div>\n",
      "<div class=\"booking\"><span class=\"tadpole\"></span>Booked 13 times today</div>\n",
      "<div class=\"booking\"><span class=\"tadpole\"></span>Booked 82 times today</div>\n",
      "<div class=\"booking\"><span class=\"tadpole\"></span>Booked 17 times today</div>\n",
      "<div class=\"booking\"><span class=\"tadpole\"></span>Booked 68 times today</div>\n",
      "<div class=\"booking\"><span class=\"tadpole\"></span>Booked 14 times today</div>\n",
      "<div class=\"booking\"><span class=\"tadpole\"></span>Booked 50 times today</div>\n",
      "<div class=\"booking\"><span class=\"tadpole\"></span>Booked 34 times today</div>\n",
      "<div class=\"booking\"><span class=\"tadpole\"></span>Booked 16 times today</div>\n",
      "<div class=\"booking\"><span class=\"tadpole\"></span>Booked 28 times today</div>\n",
      "<div class=\"booking\"><span class=\"tadpole\"></span>Booked 15 times today</div>\n",
      "<div class=\"booking\"><span class=\"tadpole\"></span>Booked 30 times today</div>\n",
      "<div class=\"booking\"><span class=\"tadpole\"></span>Booked 30 times today</div>\n",
      "<div class=\"booking\"><span class=\"tadpole\"></span>Booked 21 times today</div>\n",
      "<div class=\"booking\"><span class=\"tadpole\"></span>Booked 84 times today</div>\n",
      "<div class=\"booking\"><span class=\"tadpole\"></span>Booked 12 times today</div>\n",
      "<div class=\"booking\"><span class=\"tadpole\"></span>Booked 37 times today</div>\n",
      "<div class=\"booking\"><span class=\"tadpole\"></span>Booked 88 times today</div>\n",
      "<div class=\"booking\"><span class=\"tadpole\"></span>Booked 14 times today</div>\n",
      "<div class=\"booking\"><span class=\"tadpole\"></span>Booked 29 times today</div>\n",
      "<div class=\"booking\"><span class=\"tadpole\"></span>Booked 12 times today</div>\n",
      "<div class=\"booking\"><span class=\"tadpole\"></span>Booked 16 times today</div>\n",
      "<div class=\"booking\"><span class=\"tadpole\"></span>Booked 64 times today</div>\n"
     ]
    }
   ],
   "source": [
    "# now print out each booking for the listings using a loop\n",
    "for entry in html.find_all('div', {'class':'booking'}):\n",
    "    print entry"
   ]
  },
  {
   "cell_type": "markdown",
   "metadata": {},
   "source": [
    "Let's grab just the text of each of these entries."
   ]
  },
  {
   "cell_type": "code",
   "execution_count": 50,
   "metadata": {},
   "outputs": [
    {
     "name": "stdout",
     "output_type": "stream",
     "text": [
      "Booked 29 times today\n",
      "Booked 181 times today\n",
      "Booked 45 times today\n",
      "Booked 69 times today\n",
      "Booked 89 times today\n",
      "Booked 283 times today\n",
      "Booked 147 times today\n",
      "Booked 178 times today\n",
      "Booked 309 times today\n",
      "Booked 332 times today\n",
      "Booked 30 times today\n",
      "Booked 80 times today\n",
      "Booked 53 times today\n",
      "Booked 31 times today\n",
      "Booked 56 times today\n",
      "Booked 572 times today\n",
      "Booked 42 times today\n",
      "Booked 81 times today\n",
      "Booked 30 times today\n",
      "Booked 43 times today\n",
      "Booked 29 times today\n",
      "Booked 147 times today\n",
      "Booked 71 times today\n",
      "Booked 21 times today\n",
      "Booked 195 times today\n",
      "Booked 85 times today\n",
      "Booked 43 times today\n",
      "Booked 36 times today\n",
      "Booked 29 times today\n",
      "Booked 33 times today\n",
      "Booked 37 times today\n",
      "Booked 35 times today\n",
      "Booked 206 times today\n",
      "Booked 85 times today\n",
      "Booked 34 times today\n",
      "Booked 22 times today\n",
      "Booked 51 times today\n",
      "Booked 79 times today\n",
      "Booked 101 times today\n",
      "Booked 58 times today\n",
      "Booked 29 times today\n",
      "Booked 91 times today\n",
      "Booked 78 times today\n",
      "Booked 221 times today\n",
      "Booked 265 times today\n",
      "Booked 33 times today\n",
      "Booked 18 times today\n",
      "Booked 49 times today\n",
      "Booked 24 times today\n",
      "Booked 40 times today\n",
      "Booked 58 times today\n",
      "Booked 24 times today\n",
      "Booked 31 times today\n",
      "Booked 27 times today\n",
      "Booked 35 times today\n",
      "Booked 265 times today\n",
      "Booked 39 times today\n",
      "Booked 353 times today\n",
      "Booked 35 times today\n",
      "Booked 30 times today\n",
      "Booked 12 times today\n",
      "Booked 12 times today\n",
      "Booked 30 times today\n",
      "Booked 62 times today\n",
      "Booked 92 times today\n",
      "Booked 44 times today\n",
      "Booked 8 times today\n",
      "Booked 50 times today\n",
      "Booked 40 times today\n",
      "Booked 55 times today\n",
      "Booked 15 times today\n",
      "Booked 22 times today\n",
      "Booked 99 times today\n",
      "Booked 30 times today\n",
      "Booked 24 times today\n",
      "Booked 13 times today\n",
      "Booked 16 times today\n",
      "Booked 13 times today\n",
      "Booked 82 times today\n",
      "Booked 17 times today\n",
      "Booked 68 times today\n",
      "Booked 14 times today\n",
      "Booked 50 times today\n",
      "Booked 34 times today\n",
      "Booked 16 times today\n",
      "Booked 28 times today\n",
      "Booked 15 times today\n",
      "Booked 30 times today\n",
      "Booked 30 times today\n",
      "Booked 21 times today\n",
      "Booked 84 times today\n",
      "Booked 12 times today\n",
      "Booked 37 times today\n",
      "Booked 88 times today\n",
      "Booked 14 times today\n",
      "Booked 29 times today\n",
      "Booked 12 times today\n",
      "Booked 16 times today\n",
      "Booked 64 times today\n"
     ]
    }
   ],
   "source": [
    "# do the same as above, but grabbing only the text content\n",
    "for entry in html.find_all('div', {'class':'booking'}):\n",
    "    print entry.text"
   ]
  },
  {
   "cell_type": "code",
   "execution_count": 51,
   "metadata": {
    "collapsed": true
   },
   "outputs": [],
   "source": [
    "driver.close()"
   ]
  },
  {
   "cell_type": "markdown",
   "metadata": {},
   "source": [
    "We've succeeded!\n",
    "\n",
    "<a id=\"selenium-regex\"></a>\n",
    "### Using regex to only get digits\n",
    "\n",
    "But we can clean this up a little bit. We're going to use regular expressions (regex) to grab only the digits that are available in each of the text.\n",
    "\n",
    "The best way to get good at regex is to, well, just keep trying and testing: http://pythex.org/"
   ]
  },
  {
   "cell_type": "code",
   "execution_count": 52,
   "metadata": {
    "collapsed": true
   },
   "outputs": [],
   "source": [
    "# import regex\n",
    "import re"
   ]
  },
  {
   "cell_type": "markdown",
   "metadata": {},
   "source": [
    "Given we haven't covered regex, I'll show you how to use the search function to match any given digit."
   ]
  },
  {
   "cell_type": "code",
   "execution_count": 53,
   "metadata": {},
   "outputs": [
    {
     "name": "stdout",
     "output_type": "stream",
     "text": [
      "29\n",
      "181\n",
      "45\n",
      "69\n",
      "89\n",
      "283\n",
      "147\n",
      "178\n",
      "309\n",
      "332\n",
      "30\n",
      "80\n",
      "53\n",
      "31\n",
      "56\n",
      "572\n",
      "42\n",
      "81\n",
      "30\n",
      "43\n",
      "29\n",
      "147\n",
      "71\n",
      "21\n",
      "195\n",
      "85\n",
      "43\n",
      "36\n",
      "29\n",
      "33\n",
      "37\n",
      "35\n",
      "206\n",
      "85\n",
      "34\n",
      "22\n",
      "51\n",
      "79\n",
      "101\n",
      "58\n",
      "29\n",
      "91\n",
      "78\n",
      "221\n",
      "265\n",
      "33\n",
      "18\n",
      "49\n",
      "24\n",
      "40\n",
      "58\n",
      "24\n",
      "31\n",
      "27\n",
      "35\n",
      "265\n",
      "39\n",
      "353\n",
      "35\n",
      "30\n",
      "12\n",
      "12\n",
      "30\n",
      "62\n",
      "92\n",
      "44\n",
      "8\n",
      "50\n",
      "40\n",
      "55\n",
      "15\n",
      "22\n",
      "99\n",
      "30\n",
      "24\n",
      "13\n",
      "16\n",
      "13\n",
      "82\n",
      "17\n",
      "68\n",
      "14\n",
      "50\n",
      "34\n",
      "16\n",
      "28\n",
      "15\n",
      "30\n",
      "30\n",
      "21\n",
      "84\n",
      "12\n",
      "37\n",
      "88\n",
      "14\n",
      "29\n",
      "12\n",
      "16\n",
      "64\n"
     ]
    }
   ],
   "source": [
    "# for each entry, grab the text\n",
    "for booking in html.find_all('div', {'class':'booking'}):\n",
    "    # match all digits\n",
    "    match = re.search(r'\\d+', booking.text)\n",
    "    \n",
    "    if match:\n",
    "        # print if found\n",
    "        print match.group()\n",
    "    else:\n",
    "        # otherwise pass\n",
    "        pass"
   ]
  },
  {
   "cell_type": "markdown",
   "metadata": {},
   "source": [
    "Before we demonstrate all the other amazing things about headless browsers, let's finish up collecting the data we want from this current example. Do you suppose the html parsing we wrote above will still work on the page source we've grabbed from our headless browser?"
   ]
  },
  {
   "cell_type": "markdown",
   "metadata": {},
   "source": [
    "To be most efficient, we want to only do a single loop for each entry on the page. That means we want to find what element all of other other elements (name, location, price, bookings) is housed within. Where on the page is each entry located?"
   ]
  },
  {
   "cell_type": "code",
   "execution_count": 55,
   "metadata": {
    "collapsed": true
   },
   "outputs": [],
   "source": [
    "# print out all entries\n",
    "#   NOTE: Has many entries. Uncomment the below code to run it!\n",
    "\n",
    "# soup.find_all('div', {'class':'result content-section-list-row cf with-times'})"
   ]
  },
  {
   "cell_type": "markdown",
   "metadata": {},
   "source": [
    "Look over the page. Does every single entry have each element we're seeking?\n",
    "> I did this previously. I know for a fact that not every element has a number of recent bookings. That's probably exactly why OpenTable houses this in JavaScript: they want to continously update the number of bookings with the most relevant number of values."
   ]
  },
  {
   "cell_type": "code",
   "execution_count": 56,
   "metadata": {
    "scrolled": true
   },
   "outputs": [
    {
     "name": "stdout",
     "output_type": "stream",
     "text": [
      "<div class=\"booking\"><span class=\"tadpole\"></span>Booked 29 times today</div>\n",
      "<div class=\"booking\"><span class=\"tadpole\"></span>Booked 181 times today</div>\n",
      "<div class=\"booking\"><span class=\"tadpole\"></span>Booked 45 times today</div>\n",
      "<div class=\"booking\"><span class=\"tadpole\"></span>Booked 69 times today</div>\n",
      "<div class=\"booking\"><span class=\"tadpole\"></span>Booked 89 times today</div>\n",
      "<div class=\"booking\"><span class=\"tadpole\"></span>Booked 283 times today</div>\n",
      "<div class=\"booking\"><span class=\"tadpole\"></span>Booked 147 times today</div>\n",
      "<div class=\"booking\"><span class=\"tadpole\"></span>Booked 178 times today</div>\n",
      "<div class=\"booking\"><span class=\"tadpole\"></span>Booked 309 times today</div>\n",
      "None\n",
      "<div class=\"booking\"><span class=\"tadpole\"></span>Booked 332 times today</div>\n",
      "<div class=\"booking\"><span class=\"tadpole\"></span>Booked 30 times today</div>\n",
      "<div class=\"booking\"><span class=\"tadpole\"></span>Booked 80 times today</div>\n",
      "<div class=\"booking\"><span class=\"tadpole\"></span>Booked 53 times today</div>\n",
      "<div class=\"booking\"><span class=\"tadpole\"></span>Booked 31 times today</div>\n",
      "<div class=\"booking\"><span class=\"tadpole\"></span>Booked 56 times today</div>\n",
      "<div class=\"booking\"><span class=\"tadpole\"></span>Booked 572 times today</div>\n",
      "<div class=\"booking\"><span class=\"tadpole\"></span>Booked 42 times today</div>\n",
      "<div class=\"booking\"><span class=\"tadpole\"></span>Booked 81 times today</div>\n",
      "<div class=\"booking\"><span class=\"tadpole\"></span>Booked 30 times today</div>\n",
      "<div class=\"booking\"><span class=\"tadpole\"></span>Booked 43 times today</div>\n",
      "<div class=\"booking\"><span class=\"tadpole\"></span>Booked 29 times today</div>\n",
      "<div class=\"booking\"><span class=\"tadpole\"></span>Booked 147 times today</div>\n",
      "<div class=\"booking\"><span class=\"tadpole\"></span>Booked 71 times today</div>\n",
      "<div class=\"booking\"><span class=\"tadpole\"></span>Booked 21 times today</div>\n",
      "<div class=\"booking\"><span class=\"tadpole\"></span>Booked 195 times today</div>\n",
      "<div class=\"booking\"><span class=\"tadpole\"></span>Booked 85 times today</div>\n",
      "<div class=\"booking\"><span class=\"tadpole\"></span>Booked 43 times today</div>\n",
      "<div class=\"booking\"><span class=\"tadpole\"></span>Booked 36 times today</div>\n",
      "<div class=\"booking\"><span class=\"tadpole\"></span>Booked 29 times today</div>\n",
      "<div class=\"booking\"><span class=\"tadpole\"></span>Booked 33 times today</div>\n",
      "<div class=\"booking\"><span class=\"tadpole\"></span>Booked 37 times today</div>\n",
      "<div class=\"booking\"><span class=\"tadpole\"></span>Booked 35 times today</div>\n",
      "<div class=\"booking\"><span class=\"tadpole\"></span>Booked 206 times today</div>\n",
      "<div class=\"booking\"><span class=\"tadpole\"></span>Booked 85 times today</div>\n",
      "<div class=\"booking\"><span class=\"tadpole\"></span>Booked 34 times today</div>\n",
      "<div class=\"booking\"><span class=\"tadpole\"></span>Booked 22 times today</div>\n",
      "<div class=\"booking\"><span class=\"tadpole\"></span>Booked 51 times today</div>\n",
      "<div class=\"booking\"><span class=\"tadpole\"></span>Booked 79 times today</div>\n",
      "<div class=\"booking\"><span class=\"tadpole\"></span>Booked 101 times today</div>\n",
      "<div class=\"booking\"><span class=\"tadpole\"></span>Booked 58 times today</div>\n",
      "<div class=\"booking\"><span class=\"tadpole\"></span>Booked 29 times today</div>\n",
      "<div class=\"booking\"><span class=\"tadpole\"></span>Booked 91 times today</div>\n",
      "<div class=\"booking\"><span class=\"tadpole\"></span>Booked 78 times today</div>\n",
      "<div class=\"booking\"><span class=\"tadpole\"></span>Booked 221 times today</div>\n",
      "<div class=\"booking\"><span class=\"tadpole\"></span>Booked 265 times today</div>\n",
      "<div class=\"booking\"><span class=\"tadpole\"></span>Booked 33 times today</div>\n",
      "<div class=\"booking\"><span class=\"tadpole\"></span>Booked 18 times today</div>\n",
      "<div class=\"booking\"><span class=\"tadpole\"></span>Booked 49 times today</div>\n",
      "<div class=\"booking\"><span class=\"tadpole\"></span>Booked 24 times today</div>\n",
      "<div class=\"booking\"><span class=\"tadpole\"></span>Booked 40 times today</div>\n",
      "<div class=\"booking\"><span class=\"tadpole\"></span>Booked 58 times today</div>\n",
      "<div class=\"booking\"><span class=\"tadpole\"></span>Booked 24 times today</div>\n",
      "<div class=\"booking\"><span class=\"tadpole\"></span>Booked 31 times today</div>\n",
      "<div class=\"booking\"><span class=\"tadpole\"></span>Booked 27 times today</div>\n",
      "<div class=\"booking\"><span class=\"tadpole\"></span>Booked 35 times today</div>\n",
      "<div class=\"booking\"><span class=\"tadpole\"></span>Booked 265 times today</div>\n",
      "<div class=\"booking\"><span class=\"tadpole\"></span>Booked 39 times today</div>\n",
      "<div class=\"booking\"><span class=\"tadpole\"></span>Booked 353 times today</div>\n",
      "<div class=\"booking\"><span class=\"tadpole\"></span>Booked 35 times today</div>\n",
      "<div class=\"booking\"><span class=\"tadpole\"></span>Booked 30 times today</div>\n",
      "<div class=\"booking\"><span class=\"tadpole\"></span>Booked 12 times today</div>\n",
      "<div class=\"booking\"><span class=\"tadpole\"></span>Booked 12 times today</div>\n",
      "<div class=\"booking\"><span class=\"tadpole\"></span>Booked 30 times today</div>\n",
      "<div class=\"booking\"><span class=\"tadpole\"></span>Booked 62 times today</div>\n",
      "<div class=\"booking\"><span class=\"tadpole\"></span>Booked 92 times today</div>\n",
      "<div class=\"booking\"><span class=\"tadpole\"></span>Booked 44 times today</div>\n",
      "<div class=\"booking\"><span class=\"tadpole\"></span>Booked 8 times today</div>\n",
      "<div class=\"booking\"><span class=\"tadpole\"></span>Booked 50 times today</div>\n",
      "<div class=\"booking\"><span class=\"tadpole\"></span>Booked 40 times today</div>\n",
      "<div class=\"booking\"><span class=\"tadpole\"></span>Booked 55 times today</div>\n",
      "<div class=\"booking\"><span class=\"tadpole\"></span>Booked 15 times today</div>\n",
      "<div class=\"booking\"><span class=\"tadpole\"></span>Booked 22 times today</div>\n",
      "<div class=\"booking\"><span class=\"tadpole\"></span>Booked 99 times today</div>\n",
      "<div class=\"booking\"><span class=\"tadpole\"></span>Booked 30 times today</div>\n",
      "<div class=\"booking\"><span class=\"tadpole\"></span>Booked 24 times today</div>\n",
      "<div class=\"booking\"><span class=\"tadpole\"></span>Booked 13 times today</div>\n",
      "<div class=\"booking\"><span class=\"tadpole\"></span>Booked 16 times today</div>\n",
      "<div class=\"booking\"><span class=\"tadpole\"></span>Booked 13 times today</div>\n",
      "<div class=\"booking\"><span class=\"tadpole\"></span>Booked 82 times today</div>\n",
      "<div class=\"booking\"><span class=\"tadpole\"></span>Booked 17 times today</div>\n",
      "<div class=\"booking\"><span class=\"tadpole\"></span>Booked 68 times today</div>\n",
      "<div class=\"booking\"><span class=\"tadpole\"></span>Booked 14 times today</div>\n",
      "<div class=\"booking\"><span class=\"tadpole\"></span>Booked 50 times today</div>\n",
      "<div class=\"booking\"><span class=\"tadpole\"></span>Booked 34 times today</div>\n",
      "<div class=\"booking\"><span class=\"tadpole\"></span>Booked 16 times today</div>\n",
      "<div class=\"booking\"><span class=\"tadpole\"></span>Booked 28 times today</div>\n",
      "<div class=\"booking\"><span class=\"tadpole\"></span>Booked 15 times today</div>\n",
      "<div class=\"booking\"><span class=\"tadpole\"></span>Booked 30 times today</div>\n",
      "<div class=\"booking\"><span class=\"tadpole\"></span>Booked 30 times today</div>\n",
      "<div class=\"booking\"><span class=\"tadpole\"></span>Booked 21 times today</div>\n",
      "<div class=\"booking\"><span class=\"tadpole\"></span>Booked 84 times today</div>\n",
      "<div class=\"booking\"><span class=\"tadpole\"></span>Booked 12 times today</div>\n",
      "<div class=\"booking\"><span class=\"tadpole\"></span>Booked 37 times today</div>\n",
      "<div class=\"booking\"><span class=\"tadpole\"></span>Booked 88 times today</div>\n",
      "<div class=\"booking\"><span class=\"tadpole\"></span>Booked 14 times today</div>\n",
      "<div class=\"booking\"><span class=\"tadpole\"></span>Booked 29 times today</div>\n",
      "<div class=\"booking\"><span class=\"tadpole\"></span>Booked 12 times today</div>\n",
      "<div class=\"booking\"><span class=\"tadpole\"></span>Booked 16 times today</div>\n",
      "<div class=\"booking\"><span class=\"tadpole\"></span>Booked 64 times today</div>\n"
     ]
    }
   ],
   "source": [
    "# What happens when a booking is not available?\n",
    "# Print out each booking entry, using the identification code we wrote above\n",
    "\n",
    "for entry in html.find_all('div', {'class':'result content-section-list-row cf with-times'}):\n",
    "    print entry.find('div', {'class':'booking'})"
   ]
  },
  {
   "cell_type": "code",
   "execution_count": 57,
   "metadata": {},
   "outputs": [
    {
     "name": "stdout",
     "output_type": "stream",
     "text": [
      "Booked 29 times today\n",
      "Booked 181 times today\n",
      "Booked 45 times today\n",
      "Booked 69 times today\n",
      "Booked 89 times today\n",
      "Booked 283 times today\n",
      "Booked 147 times today\n",
      "Booked 178 times today\n",
      "Booked 309 times today\n"
     ]
    },
    {
     "ename": "AttributeError",
     "evalue": "'NoneType' object has no attribute 'text'",
     "output_type": "error",
     "traceback": [
      "\u001b[0;31m---------------------------------------------------------------------------\u001b[0m",
      "\u001b[0;31mAttributeError\u001b[0m                            Traceback (most recent call last)",
      "\u001b[0;32m<ipython-input-57-2fb7387ce5b1>\u001b[0m in \u001b[0;36m<module>\u001b[0;34m()\u001b[0m\n\u001b[1;32m      1\u001b[0m \u001b[0;31m# if we find the element we want, we print it. Otherwise, we print 'ZERO'\u001b[0m\u001b[0;34m\u001b[0m\u001b[0;34m\u001b[0m\u001b[0m\n\u001b[1;32m      2\u001b[0m \u001b[0;32mfor\u001b[0m \u001b[0mentry\u001b[0m \u001b[0;32min\u001b[0m \u001b[0mhtml\u001b[0m\u001b[0;34m.\u001b[0m\u001b[0mfind_all\u001b[0m\u001b[0;34m(\u001b[0m\u001b[0;34m'div'\u001b[0m\u001b[0;34m,\u001b[0m \u001b[0;34m{\u001b[0m\u001b[0;34m'class'\u001b[0m\u001b[0;34m:\u001b[0m\u001b[0;34m'result content-section-list-row cf with-times'\u001b[0m\u001b[0;34m}\u001b[0m\u001b[0;34m)\u001b[0m\u001b[0;34m:\u001b[0m\u001b[0;34m\u001b[0m\u001b[0m\n\u001b[0;32m----> 3\u001b[0;31m         \u001b[0;32mprint\u001b[0m \u001b[0mentry\u001b[0m\u001b[0;34m.\u001b[0m\u001b[0mfind\u001b[0m\u001b[0;34m(\u001b[0m\u001b[0;34m'div'\u001b[0m\u001b[0;34m,\u001b[0m \u001b[0;34m{\u001b[0m\u001b[0;34m'class'\u001b[0m\u001b[0;34m:\u001b[0m\u001b[0;34m'booking'\u001b[0m\u001b[0;34m}\u001b[0m\u001b[0;34m)\u001b[0m\u001b[0;34m.\u001b[0m\u001b[0mtext\u001b[0m\u001b[0;34m\u001b[0m\u001b[0m\n\u001b[0m",
      "\u001b[0;31mAttributeError\u001b[0m: 'NoneType' object has no attribute 'text'"
     ]
    }
   ],
   "source": [
    "# if we find the element we want, we print it. Otherwise, we print 'ZERO'\n",
    "for entry in html.find_all('div', {'class':'result content-section-list-row cf with-times'}):\n",
    "        print entry.find('div', {'class':'booking'}).text"
   ]
  },
  {
   "cell_type": "markdown",
   "metadata": {},
   "source": [
    "What do you notice takes the place when booking is not found?\n",
    "\n",
    "We could use exception handling (`try`/`except` blocks) to resolve this. However, exceptions should only be used to handle rare or unexpected errors -- never for normal program flow.\n",
    "\n",
    "In this case, we expect that some entries will be zero. So, we can just use an `if` statement that tests whether there are any `divs` present; if not, display `'ZERO'`. Here's a demo:"
   ]
  },
  {
   "cell_type": "code",
   "execution_count": 62,
   "metadata": {},
   "outputs": [
    {
     "name": "stdout",
     "output_type": "stream",
     "text": [
      "Booked 29 times today\n",
      "Booked 181 times today\n",
      "Booked 45 times today\n",
      "Booked 69 times today\n",
      "Booked 89 times today\n",
      "Booked 283 times today\n",
      "Booked 147 times today\n",
      "Booked 178 times today\n",
      "Booked 309 times today\n",
      "ZERO\n",
      "Booked 332 times today\n",
      "Booked 30 times today\n",
      "Booked 80 times today\n",
      "Booked 53 times today\n",
      "Booked 31 times today\n",
      "Booked 56 times today\n",
      "Booked 572 times today\n",
      "Booked 42 times today\n",
      "Booked 81 times today\n",
      "Booked 30 times today\n",
      "Booked 43 times today\n",
      "Booked 29 times today\n",
      "Booked 147 times today\n",
      "Booked 71 times today\n",
      "Booked 21 times today\n",
      "Booked 195 times today\n",
      "Booked 85 times today\n",
      "Booked 43 times today\n",
      "Booked 36 times today\n",
      "Booked 29 times today\n",
      "Booked 33 times today\n",
      "Booked 37 times today\n",
      "Booked 35 times today\n",
      "Booked 206 times today\n",
      "Booked 85 times today\n",
      "Booked 34 times today\n",
      "Booked 22 times today\n",
      "Booked 51 times today\n",
      "Booked 79 times today\n",
      "Booked 101 times today\n",
      "Booked 58 times today\n",
      "Booked 29 times today\n",
      "Booked 91 times today\n",
      "Booked 78 times today\n",
      "Booked 221 times today\n",
      "Booked 265 times today\n",
      "Booked 33 times today\n",
      "Booked 18 times today\n",
      "Booked 49 times today\n",
      "Booked 24 times today\n",
      "Booked 40 times today\n",
      "Booked 58 times today\n",
      "Booked 24 times today\n",
      "Booked 31 times today\n",
      "Booked 27 times today\n",
      "Booked 35 times today\n",
      "Booked 265 times today\n",
      "Booked 39 times today\n",
      "Booked 353 times today\n",
      "Booked 35 times today\n",
      "Booked 30 times today\n",
      "Booked 12 times today\n",
      "Booked 12 times today\n",
      "Booked 30 times today\n",
      "Booked 62 times today\n",
      "Booked 92 times today\n",
      "Booked 44 times today\n",
      "Booked 8 times today\n",
      "Booked 50 times today\n",
      "Booked 40 times today\n",
      "Booked 55 times today\n",
      "Booked 15 times today\n",
      "Booked 22 times today\n",
      "Booked 99 times today\n",
      "Booked 30 times today\n",
      "Booked 24 times today\n",
      "Booked 13 times today\n",
      "Booked 16 times today\n",
      "Booked 13 times today\n",
      "Booked 82 times today\n",
      "Booked 17 times today\n",
      "Booked 68 times today\n",
      "Booked 14 times today\n",
      "Booked 50 times today\n",
      "Booked 34 times today\n",
      "Booked 16 times today\n",
      "Booked 28 times today\n",
      "Booked 15 times today\n",
      "Booked 30 times today\n",
      "Booked 30 times today\n",
      "Booked 21 times today\n",
      "Booked 84 times today\n",
      "Booked 12 times today\n",
      "Booked 37 times today\n",
      "Booked 88 times today\n",
      "Booked 14 times today\n",
      "Booked 29 times today\n",
      "Booked 12 times today\n",
      "Booked 16 times today\n",
      "Booked 64 times today\n"
     ]
    }
   ],
   "source": [
    "# if we find the element we want, we print it. Otherwise, we print 'ZERO'\n",
    "for entry in html.find_all('div', {'class':'result content-section-list-row cf with-times'}):\n",
    "    booking_tag = entry.find('div', {'class':'booking'})\n",
    "    \n",
    "    if booking_tag:\n",
    "        print booking_tag.text\n",
    "    else:\n",
    "        print 'ZERO'"
   ]
  },
  {
   "cell_type": "markdown",
   "metadata": {},
   "source": [
    "After previously completing this, we observed that all other elements WILL be returned. This means we do not have to always handle these cases.\n",
    "\n",
    "<a id=\"challenge-pandas\"></a>\n",
    "### Challenge: Use Pandas to create a DataFrame of bookings\n",
    "\n",
    "However, the onus is on you to now put all the pieces together.\n",
    "\n",
    "Loop through each entry. For each entry, grab the relevant information we want (name, location, price, bookings). Produce a dataframe with the columns \"name\",\"location\",\"price\",\"bookings\" that contains the 100 entries we would like."
   ]
  },
  {
   "cell_type": "code",
   "execution_count": 60,
   "metadata": {
    "collapsed": true
   },
   "outputs": [],
   "source": [
    "import pandas as pd"
   ]
  },
  {
   "cell_type": "code",
   "execution_count": 61,
   "metadata": {
    "collapsed": true
   },
   "outputs": [],
   "source": [
    "# I'm going to create my empty df first\n",
    "dc_eats = pd.DataFrame(columns=[\"name\",\"location\",\"price\",\"bookings\"])"
   ]
  },
  {
   "cell_type": "code",
   "execution_count": 63,
   "metadata": {
    "collapsed": true
   },
   "outputs": [],
   "source": [
    "for entry in html.find_all('div', {'class':'result content-section-list-row cf with-times'}):\n",
    "    # grab the name\n",
    "    name =  entry.find('span', {'class':'rest-row-name-text'}).text\n",
    "    \n",
    "    # grab the location \n",
    "    location = entry.find('span', {'class':'rest-row-meta--location rest-row-meta-text'}).renderContents()\n",
    "    \n",
    "    # grab the price\n",
    "    price =  entry.find('div', {'class':'rest-row-pricing'}).find('i').renderContents().count('$')\n",
    "    \n",
    "    # try to find the number of bookings\n",
    "    bookings = 'NA'\n",
    "    booking_tag = entry.find('div', {'class':'booking'})\n",
    "    if booking_tag:\n",
    "        match = re.search(r'\\d+', booking_tag.text)\n",
    "        \n",
    "        if match:\n",
    "            bookings = match.group()\n",
    "    \n",
    "    dc_eats.loc[len(dc_eats)]=[name, location, price, bookings]"
   ]
  },
  {
   "cell_type": "code",
   "execution_count": 64,
   "metadata": {},
   "outputs": [
    {
     "data": {
      "text/html": [
       "<div>\n",
       "<style>\n",
       "    .dataframe thead tr:only-child th {\n",
       "        text-align: right;\n",
       "    }\n",
       "\n",
       "    .dataframe thead th {\n",
       "        text-align: left;\n",
       "    }\n",
       "\n",
       "    .dataframe tbody tr th {\n",
       "        vertical-align: top;\n",
       "    }\n",
       "</style>\n",
       "<table border=\"1\" class=\"dataframe\">\n",
       "  <thead>\n",
       "    <tr style=\"text-align: right;\">\n",
       "      <th></th>\n",
       "      <th>name</th>\n",
       "      <th>location</th>\n",
       "      <th>price</th>\n",
       "      <th>bookings</th>\n",
       "    </tr>\n",
       "  </thead>\n",
       "  <tbody>\n",
       "    <tr>\n",
       "      <th>0</th>\n",
       "      <td>Harold Black</td>\n",
       "      <td>Capitol Hill</td>\n",
       "      <td>2</td>\n",
       "      <td>29</td>\n",
       "    </tr>\n",
       "    <tr>\n",
       "      <th>1</th>\n",
       "      <td>Rasika</td>\n",
       "      <td>Penn Quarter</td>\n",
       "      <td>3</td>\n",
       "      <td>181</td>\n",
       "    </tr>\n",
       "    <tr>\n",
       "      <th>2</th>\n",
       "      <td>Chez Billy Sud</td>\n",
       "      <td>Georgetown</td>\n",
       "      <td>2</td>\n",
       "      <td>45</td>\n",
       "    </tr>\n",
       "    <tr>\n",
       "      <th>3</th>\n",
       "      <td>Centrolina</td>\n",
       "      <td>Downtown</td>\n",
       "      <td>2</td>\n",
       "      <td>69</td>\n",
       "    </tr>\n",
       "    <tr>\n",
       "      <th>4</th>\n",
       "      <td>Ambar</td>\n",
       "      <td>Capitol Hill</td>\n",
       "      <td>2</td>\n",
       "      <td>89</td>\n",
       "    </tr>\n",
       "  </tbody>\n",
       "</table>\n",
       "</div>"
      ],
      "text/plain": [
       "             name      location price bookings\n",
       "0    Harold Black  Capitol Hill     2       29\n",
       "1          Rasika  Penn Quarter     3      181\n",
       "2  Chez Billy Sud    Georgetown     2       45\n",
       "3      Centrolina      Downtown     2       69\n",
       "4           Ambar  Capitol Hill     2       89"
      ]
     },
     "execution_count": 64,
     "metadata": {},
     "output_type": "execute_result"
    }
   ],
   "source": [
    "# check out our work\n",
    "dc_eats.head()"
   ]
  },
  {
   "cell_type": "markdown",
   "metadata": {},
   "source": [
    "Awesome! We succeeded.\n",
    "\n",
    "<a id=\"selenium-typing\"></a>\n",
    "### Auto-typing using Selenium\n",
    "\n",
    "Now, let's explore some of the other functionality of a webdriver. We've barely scratched the surface."
   ]
  },
  {
   "cell_type": "code",
   "execution_count": 65,
   "metadata": {
    "collapsed": true
   },
   "outputs": [],
   "source": [
    "# we can send keys as well\n",
    "# import\n",
    "from selenium.webdriver.common.keys import Keys"
   ]
  },
  {
   "cell_type": "code",
   "execution_count": 66,
   "metadata": {
    "collapsed": true
   },
   "outputs": [],
   "source": [
    "# open Firefox\n",
    "driver = webdriver.Firefox()\n",
    "# visit Python\n",
    "driver.get(\"http://www.python.org\")\n",
    "# verify we're in the right place\n",
    "assert \"Python\" in driver.title"
   ]
  },
  {
   "cell_type": "markdown",
   "metadata": {},
   "source": [
    "Let's try automatedly typing `pycon` in the search box and hitting the return key:"
   ]
  },
  {
   "cell_type": "code",
   "execution_count": 67,
   "metadata": {
    "collapsed": true
   },
   "outputs": [],
   "source": [
    "# find the search position\n",
    "elem = driver.find_element_by_name(\"q\")\n",
    "\n",
    "# clear it\n",
    "elem.clear()\n",
    "\n",
    "# type in pycon\n",
    "elem.send_keys(\"pycon\")\n",
    "\n",
    "# send those keys\n",
    "elem.send_keys(Keys.RETURN)"
   ]
  },
  {
   "cell_type": "code",
   "execution_count": 68,
   "metadata": {
    "collapsed": true
   },
   "outputs": [],
   "source": [
    "# close\n",
    "driver.close()"
   ]
  },
  {
   "cell_type": "code",
   "execution_count": 69,
   "metadata": {
    "collapsed": true
   },
   "outputs": [],
   "source": [
    "# all at once:\n",
    "driver = webdriver.Firefox()\n",
    "driver.get(\"http://www.python.org\")\n",
    "assert \"Python\" in driver.title\n",
    "\n",
    "elem = driver.find_element_by_name(\"q\")\n",
    "elem.clear()\n",
    "elem.send_keys(\"pycon\")\n",
    "elem.send_keys(Keys.RETURN)\n",
    "#assert \"No results found.\" not in driver.page_source\n",
    "driver.close()"
   ]
  },
  {
   "cell_type": "markdown",
   "metadata": {},
   "source": [
    "The above example (and many others) are available in the Selenium docs: http://selenium-python.readthedocs.io/getting-started.html\n",
    "\n",
    "What is especially important is exploring functionality like locating elements: http://selenium-python.readthedocs.io/locating-elements.html#locating-elements\n",
    "\n",
    "FAQ:\n",
    "http://selenium-python.readthedocs.io/faq.html"
   ]
  },
  {
   "cell_type": "markdown",
   "metadata": {},
   "source": [
    "### Summary\n",
    "\n",
    "In this lesson, we used the Beautiful Soup library to locate elements on a website then scrape their text. We also used the Selenium headless browser to run JavaScript first before retrieving the page contents."
   ]
  },
  {
   "cell_type": "code",
   "execution_count": null,
   "metadata": {
    "collapsed": true
   },
   "outputs": [],
   "source": []
  }
 ],
 "metadata": {
  "anaconda-cloud": {},
  "kernelspec": {
   "display_name": "Python [conda env:py27]",
   "language": "python",
   "name": "conda-env-py27-py"
  },
  "language_info": {
   "codemirror_mode": {
    "name": "ipython",
    "version": 2
   },
   "file_extension": ".py",
   "mimetype": "text/x-python",
   "name": "python",
   "nbconvert_exporter": "python",
   "pygments_lexer": "ipython2",
   "version": "2.7.10"
  }
 },
 "nbformat": 4,
 "nbformat_minor": 1
}
